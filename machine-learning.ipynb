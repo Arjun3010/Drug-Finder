{
 "cells": [
  {
   "cell_type": "code",
   "execution_count": 1,
   "metadata": {
    "_cell_guid": "b1076dfc-b9ad-4769-8c92-a6c4dae69d19",
    "_uuid": "8f2839f25d086af736a60e9eeb907d3b93b6e0e5",
    "execution": {
     "iopub.execute_input": "2020-11-23T13:13:11.126702Z",
     "iopub.status.busy": "2020-11-23T13:13:11.125868Z",
     "iopub.status.idle": "2020-11-23T13:13:11.133075Z",
     "shell.execute_reply": "2020-11-23T13:13:11.132168Z"
    },
    "papermill": {
     "duration": 0.059292,
     "end_time": "2020-11-23T13:13:11.133241",
     "exception": false,
     "start_time": "2020-11-23T13:13:11.073949",
     "status": "completed"
    },
    "tags": []
   },
   "outputs": [
    {
     "name": "stdout",
     "output_type": "stream",
     "text": [
      "/kaggle/input/drug-classification/drug200.csv\n"
     ]
    }
   ],
   "source": [
    "import os\n",
    "for dirname, _, filenames in os.walk('/kaggle/input'):\n",
    "    for filename in filenames:\n",
    "        print(os.path.join(dirname, filename))"
   ]
  },
  {
   "cell_type": "code",
   "execution_count": 2,
   "metadata": {
    "execution": {
     "iopub.execute_input": "2020-11-23T13:13:11.231330Z",
     "iopub.status.busy": "2020-11-23T13:13:11.230521Z",
     "iopub.status.idle": "2020-11-23T13:13:12.202978Z",
     "shell.execute_reply": "2020-11-23T13:13:12.202367Z"
    },
    "papermill": {
     "duration": 1.022514,
     "end_time": "2020-11-23T13:13:12.203108",
     "exception": false,
     "start_time": "2020-11-23T13:13:11.180594",
     "status": "completed"
    },
    "tags": []
   },
   "outputs": [],
   "source": [
    "import numpy as np\n",
    "import pandas as pd\n",
    "import matplotlib.pyplot as plt\n",
    "import seaborn as sb\n",
    "\n",
    "from sklearn.model_selection import cross_val_score\n",
    "from sklearn.model_selection import GridSearchCV"
   ]
  },
  {
   "cell_type": "code",
   "execution_count": 3,
   "metadata": {
    "execution": {
     "iopub.execute_input": "2020-11-23T13:13:12.299207Z",
     "iopub.status.busy": "2020-11-23T13:13:12.298209Z",
     "iopub.status.idle": "2020-11-23T13:13:12.301085Z",
     "shell.execute_reply": "2020-11-23T13:13:12.300487Z"
    },
    "papermill": {
     "duration": 0.052577,
     "end_time": "2020-11-23T13:13:12.301194",
     "exception": false,
     "start_time": "2020-11-23T13:13:12.248617",
     "status": "completed"
    },
    "tags": []
   },
   "outputs": [],
   "source": [
    "import warnings\n",
    "warnings.filterwarnings('ignore')"
   ]
  },
  {
   "cell_type": "code",
   "execution_count": 4,
   "metadata": {
    "_cell_guid": "79c7e3d0-c299-4dcb-8224-4455121ee9b0",
    "_uuid": "d629ff2d2480ee46fbb7e2d37f6b5fab8052498a",
    "execution": {
     "iopub.execute_input": "2020-11-23T13:13:12.400182Z",
     "iopub.status.busy": "2020-11-23T13:13:12.398966Z",
     "iopub.status.idle": "2020-11-23T13:13:12.409166Z",
     "shell.execute_reply": "2020-11-23T13:13:12.408600Z"
    },
    "papermill": {
     "duration": 0.062064,
     "end_time": "2020-11-23T13:13:12.409294",
     "exception": false,
     "start_time": "2020-11-23T13:13:12.347230",
     "status": "completed"
    },
    "tags": []
   },
   "outputs": [],
   "source": [
    "data = pd.read_csv('/kaggle/input/drug-classification/drug200.csv')"
   ]
  },
  {
   "cell_type": "markdown",
   "metadata": {
    "papermill": {
     "duration": 0.045649,
     "end_time": "2020-11-23T13:13:12.501261",
     "exception": false,
     "start_time": "2020-11-23T13:13:12.455612",
     "status": "completed"
    },
    "tags": []
   },
   "source": [
    "# Exploratory Data Analysis"
   ]
  },
  {
   "cell_type": "code",
   "execution_count": 5,
   "metadata": {
    "execution": {
     "iopub.execute_input": "2020-11-23T13:13:12.600199Z",
     "iopub.status.busy": "2020-11-23T13:13:12.599104Z",
     "iopub.status.idle": "2020-11-23T13:13:12.603027Z",
     "shell.execute_reply": "2020-11-23T13:13:12.603526Z"
    },
    "papermill": {
     "duration": 0.056609,
     "end_time": "2020-11-23T13:13:12.603676",
     "exception": false,
     "start_time": "2020-11-23T13:13:12.547067",
     "status": "completed"
    },
    "tags": []
   },
   "outputs": [
    {
     "data": {
      "text/plain": [
       "(200, 6)"
      ]
     },
     "execution_count": 5,
     "metadata": {},
     "output_type": "execute_result"
    }
   ],
   "source": [
    "data.shape"
   ]
  },
  {
   "cell_type": "code",
   "execution_count": 6,
   "metadata": {
    "execution": {
     "iopub.execute_input": "2020-11-23T13:13:12.713213Z",
     "iopub.status.busy": "2020-11-23T13:13:12.712562Z",
     "iopub.status.idle": "2020-11-23T13:13:12.721534Z",
     "shell.execute_reply": "2020-11-23T13:13:12.720994Z"
    },
    "papermill": {
     "duration": 0.071013,
     "end_time": "2020-11-23T13:13:12.721640",
     "exception": false,
     "start_time": "2020-11-23T13:13:12.650627",
     "status": "completed"
    },
    "tags": []
   },
   "outputs": [
    {
     "data": {
      "text/html": [
       "<div>\n",
       "<style scoped>\n",
       "    .dataframe tbody tr th:only-of-type {\n",
       "        vertical-align: middle;\n",
       "    }\n",
       "\n",
       "    .dataframe tbody tr th {\n",
       "        vertical-align: top;\n",
       "    }\n",
       "\n",
       "    .dataframe thead th {\n",
       "        text-align: right;\n",
       "    }\n",
       "</style>\n",
       "<table border=\"1\" class=\"dataframe\">\n",
       "  <thead>\n",
       "    <tr style=\"text-align: right;\">\n",
       "      <th></th>\n",
       "      <th>Age</th>\n",
       "      <th>Sex</th>\n",
       "      <th>BP</th>\n",
       "      <th>Cholesterol</th>\n",
       "      <th>Na_to_K</th>\n",
       "      <th>Drug</th>\n",
       "    </tr>\n",
       "  </thead>\n",
       "  <tbody>\n",
       "    <tr>\n",
       "      <th>0</th>\n",
       "      <td>23</td>\n",
       "      <td>F</td>\n",
       "      <td>HIGH</td>\n",
       "      <td>HIGH</td>\n",
       "      <td>25.355</td>\n",
       "      <td>DrugY</td>\n",
       "    </tr>\n",
       "    <tr>\n",
       "      <th>1</th>\n",
       "      <td>47</td>\n",
       "      <td>M</td>\n",
       "      <td>LOW</td>\n",
       "      <td>HIGH</td>\n",
       "      <td>13.093</td>\n",
       "      <td>drugC</td>\n",
       "    </tr>\n",
       "    <tr>\n",
       "      <th>2</th>\n",
       "      <td>47</td>\n",
       "      <td>M</td>\n",
       "      <td>LOW</td>\n",
       "      <td>HIGH</td>\n",
       "      <td>10.114</td>\n",
       "      <td>drugC</td>\n",
       "    </tr>\n",
       "    <tr>\n",
       "      <th>3</th>\n",
       "      <td>28</td>\n",
       "      <td>F</td>\n",
       "      <td>NORMAL</td>\n",
       "      <td>HIGH</td>\n",
       "      <td>7.798</td>\n",
       "      <td>drugX</td>\n",
       "    </tr>\n",
       "    <tr>\n",
       "      <th>4</th>\n",
       "      <td>61</td>\n",
       "      <td>F</td>\n",
       "      <td>LOW</td>\n",
       "      <td>HIGH</td>\n",
       "      <td>18.043</td>\n",
       "      <td>DrugY</td>\n",
       "    </tr>\n",
       "  </tbody>\n",
       "</table>\n",
       "</div>"
      ],
      "text/plain": [
       "   Age Sex      BP Cholesterol  Na_to_K   Drug\n",
       "0   23   F    HIGH        HIGH   25.355  DrugY\n",
       "1   47   M     LOW        HIGH   13.093  drugC\n",
       "2   47   M     LOW        HIGH   10.114  drugC\n",
       "3   28   F  NORMAL        HIGH    7.798  drugX\n",
       "4   61   F     LOW        HIGH   18.043  DrugY"
      ]
     },
     "execution_count": 6,
     "metadata": {},
     "output_type": "execute_result"
    }
   ],
   "source": [
    "data.head()"
   ]
  },
  {
   "cell_type": "code",
   "execution_count": 7,
   "metadata": {
    "execution": {
     "iopub.execute_input": "2020-11-23T13:13:12.822510Z",
     "iopub.status.busy": "2020-11-23T13:13:12.821511Z",
     "iopub.status.idle": "2020-11-23T13:13:12.825720Z",
     "shell.execute_reply": "2020-11-23T13:13:12.824868Z"
    },
    "papermill": {
     "duration": 0.057916,
     "end_time": "2020-11-23T13:13:12.825833",
     "exception": false,
     "start_time": "2020-11-23T13:13:12.767917",
     "status": "completed"
    },
    "tags": []
   },
   "outputs": [
    {
     "data": {
      "text/plain": [
       "Age            0\n",
       "Sex            0\n",
       "BP             0\n",
       "Cholesterol    0\n",
       "Na_to_K        0\n",
       "Drug           0\n",
       "dtype: int64"
      ]
     },
     "execution_count": 7,
     "metadata": {},
     "output_type": "execute_result"
    }
   ],
   "source": [
    "data.isnull().sum()"
   ]
  },
  {
   "cell_type": "code",
   "execution_count": 8,
   "metadata": {
    "execution": {
     "iopub.execute_input": "2020-11-23T13:13:12.928316Z",
     "iopub.status.busy": "2020-11-23T13:13:12.927317Z",
     "iopub.status.idle": "2020-11-23T13:13:12.931190Z",
     "shell.execute_reply": "2020-11-23T13:13:12.930563Z"
    },
    "papermill": {
     "duration": 0.058185,
     "end_time": "2020-11-23T13:13:12.931303",
     "exception": false,
     "start_time": "2020-11-23T13:13:12.873118",
     "status": "completed"
    },
    "tags": []
   },
   "outputs": [
    {
     "data": {
      "text/plain": [
       "Age            0\n",
       "Sex            0\n",
       "BP             0\n",
       "Cholesterol    0\n",
       "Na_to_K        0\n",
       "Drug           0\n",
       "dtype: int64"
      ]
     },
     "execution_count": 8,
     "metadata": {},
     "output_type": "execute_result"
    }
   ],
   "source": [
    "data.isna().sum()"
   ]
  },
  {
   "cell_type": "markdown",
   "metadata": {
    "papermill": {
     "duration": 0.047874,
     "end_time": "2020-11-23T13:13:13.027226",
     "exception": false,
     "start_time": "2020-11-23T13:13:12.979352",
     "status": "completed"
    },
    "tags": []
   },
   "source": [
    "No missing or null values in data\n",
    "\n",
    "200 data variables and 6 features(including the label)"
   ]
  },
  {
   "cell_type": "markdown",
   "metadata": {
    "papermill": {
     "duration": 0.048166,
     "end_time": "2020-11-23T13:13:13.123206",
     "exception": false,
     "start_time": "2020-11-23T13:13:13.075040",
     "status": "completed"
    },
    "tags": []
   },
   "source": [
    "## Feature analysis"
   ]
  },
  {
   "cell_type": "code",
   "execution_count": 9,
   "metadata": {
    "execution": {
     "iopub.execute_input": "2020-11-23T13:13:13.234331Z",
     "iopub.status.busy": "2020-11-23T13:13:13.233585Z",
     "iopub.status.idle": "2020-11-23T13:13:13.236600Z",
     "shell.execute_reply": "2020-11-23T13:13:13.237115Z"
    },
    "papermill": {
     "duration": 0.065916,
     "end_time": "2020-11-23T13:13:13.237258",
     "exception": false,
     "start_time": "2020-11-23T13:13:13.171342",
     "status": "completed"
    },
    "tags": []
   },
   "outputs": [
    {
     "name": "stdout",
     "output_type": "stream",
     "text": [
      "<class 'pandas.core.frame.DataFrame'>\n",
      "RangeIndex: 200 entries, 0 to 199\n",
      "Data columns (total 6 columns):\n",
      " #   Column       Non-Null Count  Dtype  \n",
      "---  ------       --------------  -----  \n",
      " 0   Age          200 non-null    int64  \n",
      " 1   Sex          200 non-null    object \n",
      " 2   BP           200 non-null    object \n",
      " 3   Cholesterol  200 non-null    object \n",
      " 4   Na_to_K      200 non-null    float64\n",
      " 5   Drug         200 non-null    object \n",
      "dtypes: float64(1), int64(1), object(4)\n",
      "memory usage: 9.5+ KB\n"
     ]
    }
   ],
   "source": [
    "data.info()"
   ]
  },
  {
   "cell_type": "markdown",
   "metadata": {
    "papermill": {
     "duration": 0.04889,
     "end_time": "2020-11-23T13:13:13.335409",
     "exception": false,
     "start_time": "2020-11-23T13:13:13.286519",
     "status": "completed"
    },
    "tags": []
   },
   "source": [
    "## Age:\n",
    "### Age of the patient"
   ]
  },
  {
   "cell_type": "code",
   "execution_count": 10,
   "metadata": {
    "execution": {
     "iopub.execute_input": "2020-11-23T13:13:13.441200Z",
     "iopub.status.busy": "2020-11-23T13:13:13.440218Z",
     "iopub.status.idle": "2020-11-23T13:13:13.443558Z",
     "shell.execute_reply": "2020-11-23T13:13:13.444074Z"
    },
    "papermill": {
     "duration": 0.059106,
     "end_time": "2020-11-23T13:13:13.444216",
     "exception": false,
     "start_time": "2020-11-23T13:13:13.385110",
     "status": "completed"
    },
    "tags": []
   },
   "outputs": [
    {
     "name": "stdout",
     "output_type": "stream",
     "text": [
      "Maximum age: 74\n",
      "Minimum age: 15\n"
     ]
    }
   ],
   "source": [
    "print('Maximum age:',max(data['Age']))\n",
    "print('Minimum age:',min(data['Age']))"
   ]
  },
  {
   "cell_type": "code",
   "execution_count": 11,
   "metadata": {
    "execution": {
     "iopub.execute_input": "2020-11-23T13:13:13.551489Z",
     "iopub.status.busy": "2020-11-23T13:13:13.550774Z",
     "iopub.status.idle": "2020-11-23T13:13:13.748660Z",
     "shell.execute_reply": "2020-11-23T13:13:13.748114Z"
    },
    "papermill": {
     "duration": 0.255441,
     "end_time": "2020-11-23T13:13:13.748777",
     "exception": false,
     "start_time": "2020-11-23T13:13:13.493336",
     "status": "completed"
    },
    "tags": []
   },
   "outputs": [
    {
     "data": {
      "text/plain": [
       "<matplotlib.axes._subplots.AxesSubplot at 0x7fb2f7ec5a50>"
      ]
     },
     "execution_count": 11,
     "metadata": {},
     "output_type": "execute_result"
    },
    {
     "data": {
      "image/png": "[encoded data removed]",
      "text/plain": [
       "<Figure size 432x288 with 1 Axes>"
      ]
     },
     "metadata": {
      "needs_background": "light"
     },
     "output_type": "display_data"
    }
   ],
   "source": [
    "sb.distplot(data['Age'])"
   ]
  },
  {
   "cell_type": "markdown",
   "metadata": {
    "papermill": {
     "duration": 0.049397,
     "end_time": "2020-11-23T13:13:13.848467",
     "exception": false,
     "start_time": "2020-11-23T13:13:13.799070",
     "status": "completed"
    },
    "tags": []
   },
   "source": [
    "Age ranges from 15 to 74"
   ]
  },
  {
   "cell_type": "markdown",
   "metadata": {
    "papermill": {
     "duration": 0.051746,
     "end_time": "2020-11-23T13:13:13.950952",
     "exception": false,
     "start_time": "2020-11-23T13:13:13.899206",
     "status": "completed"
    },
    "tags": []
   },
   "source": [
    "## Sex:\n",
    "### Sex of the patient"
   ]
  },
  {
   "cell_type": "code",
   "execution_count": 12,
   "metadata": {
    "execution": {
     "iopub.execute_input": "2020-11-23T13:13:14.058088Z",
     "iopub.status.busy": "2020-11-23T13:13:14.057054Z",
     "iopub.status.idle": "2020-11-23T13:13:14.060509Z",
     "shell.execute_reply": "2020-11-23T13:13:14.061028Z"
    },
    "papermill": {
     "duration": 0.060049,
     "end_time": "2020-11-23T13:13:14.061164",
     "exception": false,
     "start_time": "2020-11-23T13:13:14.001115",
     "status": "completed"
    },
    "tags": []
   },
   "outputs": [
    {
     "data": {
      "text/plain": [
       "M    104\n",
       "F     96\n",
       "Name: Sex, dtype: int64"
      ]
     },
     "execution_count": 12,
     "metadata": {},
     "output_type": "execute_result"
    }
   ],
   "source": [
    "data.Sex.value_counts()"
   ]
  },
  {
   "cell_type": "code",
   "execution_count": 13,
   "metadata": {
    "execution": {
     "iopub.execute_input": "2020-11-23T13:13:14.174342Z",
     "iopub.status.busy": "2020-11-23T13:13:14.173471Z",
     "iopub.status.idle": "2020-11-23T13:13:14.267176Z",
     "shell.execute_reply": "2020-11-23T13:13:14.266543Z"
    },
    "papermill": {
     "duration": 0.155785,
     "end_time": "2020-11-23T13:13:14.267297",
     "exception": false,
     "start_time": "2020-11-23T13:13:14.111512",
     "status": "completed"
    },
    "tags": []
   },
   "outputs": [
    {
     "data": {
      "text/plain": [
       "<matplotlib.axes._subplots.AxesSubplot at 0x7fb2eb921450>"
      ]
     },
     "execution_count": 13,
     "metadata": {},
     "output_type": "execute_result"
    },
    {
     "data": {
      "image/png": "[encoded data removed]",
      "text/plain": [
       "<Figure size 432x288 with 1 Axes>"
      ]
     },
     "metadata": {
      "needs_background": "light"
     },
     "output_type": "display_data"
    }
   ],
   "source": [
    "sb.countplot(x = data.Sex)"
   ]
  },
  {
   "cell_type": "markdown",
   "metadata": {
    "papermill": {
     "duration": 0.050342,
     "end_time": "2020-11-23T13:13:14.370064",
     "exception": false,
     "start_time": "2020-11-23T13:13:14.319722",
     "status": "completed"
    },
    "tags": []
   },
   "source": [
    "Sex ratio seems to be balanced.\n",
    "\n",
    "Since it is a categorical variable, we convert it to numeric using label encoder in python"
   ]
  },
  {
   "cell_type": "markdown",
   "metadata": {
    "papermill": {
     "duration": 0.050299,
     "end_time": "2020-11-23T13:13:14.473384",
     "exception": false,
     "start_time": "2020-11-23T13:13:14.423085",
     "status": "completed"
    },
    "tags": []
   },
   "source": [
    "## BP:\n",
    "\n",
    "### Blood Pressure of patient"
   ]
  },
  {
   "cell_type": "code",
   "execution_count": 14,
   "metadata": {
    "execution": {
     "iopub.execute_input": "2020-11-23T13:13:14.585429Z",
     "iopub.status.busy": "2020-11-23T13:13:14.584624Z",
     "iopub.status.idle": "2020-11-23T13:13:14.588978Z",
     "shell.execute_reply": "2020-11-23T13:13:14.588470Z"
    },
    "papermill": {
     "duration": 0.063934,
     "end_time": "2020-11-23T13:13:14.589098",
     "exception": false,
     "start_time": "2020-11-23T13:13:14.525164",
     "status": "completed"
    },
    "tags": []
   },
   "outputs": [
    {
     "data": {
      "text/plain": [
       "HIGH      77\n",
       "LOW       64\n",
       "NORMAL    59\n",
       "Name: BP, dtype: int64"
      ]
     },
     "execution_count": 14,
     "metadata": {},
     "output_type": "execute_result"
    }
   ],
   "source": [
    "data.BP.value_counts()"
   ]
  },
  {
   "cell_type": "code",
   "execution_count": 15,
   "metadata": {
    "execution": {
     "iopub.execute_input": "2020-11-23T13:13:14.704195Z",
     "iopub.status.busy": "2020-11-23T13:13:14.697002Z",
     "iopub.status.idle": "2020-11-23T13:13:14.807979Z",
     "shell.execute_reply": "2020-11-23T13:13:14.807455Z"
    },
    "papermill": {
     "duration": 0.166575,
     "end_time": "2020-11-23T13:13:14.808088",
     "exception": false,
     "start_time": "2020-11-23T13:13:14.641513",
     "status": "completed"
    },
    "tags": []
   },
   "outputs": [
    {
     "data": {
      "text/plain": [
       "<matplotlib.axes._subplots.AxesSubplot at 0x7fb2eb93c110>"
      ]
     },
     "execution_count": 15,
     "metadata": {},
     "output_type": "execute_result"
    },
    {
     "data": {
      "image/png": "[encoded data removed]",
      "text/plain": [
       "<Figure size 432x288 with 1 Axes>"
      ]
     },
     "metadata": {
      "needs_background": "light"
     },
     "output_type": "display_data"
    }
   ],
   "source": [
    "sb.countplot(x = data.BP)"
   ]
  },
  {
   "cell_type": "markdown",
   "metadata": {
    "papermill": {
     "duration": 0.05181,
     "end_time": "2020-11-23T13:13:14.911647",
     "exception": false,
     "start_time": "2020-11-23T13:13:14.859837",
     "status": "completed"
    },
    "tags": []
   },
   "source": [
    "BP ratio seems to be balanced.\n",
    "\n",
    "Since it is a categorical variable, we convert it to numeric using label encoder in python"
   ]
  },
  {
   "cell_type": "markdown",
   "metadata": {
    "papermill": {
     "duration": 0.052011,
     "end_time": "2020-11-23T13:13:15.016599",
     "exception": false,
     "start_time": "2020-11-23T13:13:14.964588",
     "status": "completed"
    },
    "tags": []
   },
   "source": [
    "## Cholesterol:\n",
    "### Cholesterol of the patient"
   ]
  },
  {
   "cell_type": "code",
   "execution_count": 16,
   "metadata": {
    "execution": {
     "iopub.execute_input": "2020-11-23T13:13:15.128083Z",
     "iopub.status.busy": "2020-11-23T13:13:15.127328Z",
     "iopub.status.idle": "2020-11-23T13:13:15.131452Z",
     "shell.execute_reply": "2020-11-23T13:13:15.130952Z"
    },
    "papermill": {
     "duration": 0.062983,
     "end_time": "2020-11-23T13:13:15.131557",
     "exception": false,
     "start_time": "2020-11-23T13:13:15.068574",
     "status": "completed"
    },
    "tags": []
   },
   "outputs": [
    {
     "data": {
      "text/plain": [
       "HIGH      103\n",
       "NORMAL     97\n",
       "Name: Cholesterol, dtype: int64"
      ]
     },
     "execution_count": 16,
     "metadata": {},
     "output_type": "execute_result"
    }
   ],
   "source": [
    "data.Cholesterol.value_counts()"
   ]
  },
  {
   "cell_type": "code",
   "execution_count": 17,
   "metadata": {
    "execution": {
     "iopub.execute_input": "2020-11-23T13:13:15.248201Z",
     "iopub.status.busy": "2020-11-23T13:13:15.243722Z",
     "iopub.status.idle": "2020-11-23T13:13:15.341154Z",
     "shell.execute_reply": "2020-11-23T13:13:15.340602Z"
    },
    "papermill": {
     "duration": 0.157493,
     "end_time": "2020-11-23T13:13:15.341276",
     "exception": false,
     "start_time": "2020-11-23T13:13:15.183783",
     "status": "completed"
    },
    "tags": []
   },
   "outputs": [
    {
     "data": {
      "text/plain": [
       "<matplotlib.axes._subplots.AxesSubplot at 0x7fb2eb921c50>"
      ]
     },
     "execution_count": 17,
     "metadata": {},
     "output_type": "execute_result"
    },
    {
     "data": {
      "image/png": "[encoded data removed]",
      "text/plain": [
       "<Figure size 432x288 with 1 Axes>"
      ]
     },
     "metadata": {
      "needs_background": "light"
     },
     "output_type": "display_data"
    }
   ],
   "source": [
    "sb.countplot(x = data.Cholesterol)"
   ]
  },
  {
   "cell_type": "markdown",
   "metadata": {
    "papermill": {
     "duration": 0.054358,
     "end_time": "2020-11-23T13:13:15.449435",
     "exception": false,
     "start_time": "2020-11-23T13:13:15.395077",
     "status": "completed"
    },
    "tags": []
   },
   "source": [
    "Cholesterol ratio seems to be balanced.\n",
    "\n",
    "Since it is a categorical variable, we convert it to numeric using label encoder in python"
   ]
  },
  {
   "cell_type": "markdown",
   "metadata": {
    "papermill": {
     "duration": 0.064632,
     "end_time": "2020-11-23T13:13:15.567790",
     "exception": false,
     "start_time": "2020-11-23T13:13:15.503158",
     "status": "completed"
    },
    "tags": []
   },
   "source": [
    "## Na_to_K:\n",
    "### Sodium-Potassium ratio in patient's blood"
   ]
  },
  {
   "cell_type": "code",
   "execution_count": 18,
   "metadata": {
    "execution": {
     "iopub.execute_input": "2020-11-23T13:13:15.708090Z",
     "iopub.status.busy": "2020-11-23T13:13:15.707255Z",
     "iopub.status.idle": "2020-11-23T13:13:15.711133Z",
     "shell.execute_reply": "2020-11-23T13:13:15.710323Z"
    },
    "papermill": {
     "duration": 0.071222,
     "end_time": "2020-11-23T13:13:15.711255",
     "exception": false,
     "start_time": "2020-11-23T13:13:15.640033",
     "status": "completed"
    },
    "tags": []
   },
   "outputs": [
    {
     "name": "stdout",
     "output_type": "stream",
     "text": [
      "Maximum Sodium-Potassium ratio: 38.247\n",
      "Minimum Sodium-Potassium ratio: 6.269\n"
     ]
    }
   ],
   "source": [
    "print(\"Maximum Sodium-Potassium ratio:\",data.Na_to_K.max())\n",
    "print(\"Minimum Sodium-Potassium ratio:\",data.Na_to_K.min())"
   ]
  },
  {
   "cell_type": "code",
   "execution_count": 19,
   "metadata": {
    "execution": {
     "iopub.execute_input": "2020-11-23T13:13:15.829981Z",
     "iopub.status.busy": "2020-11-23T13:13:15.825854Z",
     "iopub.status.idle": "2020-11-23T13:13:16.048311Z",
     "shell.execute_reply": "2020-11-23T13:13:16.047768Z"
    },
    "papermill": {
     "duration": 0.28211,
     "end_time": "2020-11-23T13:13:16.048419",
     "exception": false,
     "start_time": "2020-11-23T13:13:15.766309",
     "status": "completed"
    },
    "tags": []
   },
   "outputs": [
    {
     "data": {
      "text/plain": [
       "<matplotlib.axes._subplots.AxesSubplot at 0x7fb2eb7e9710>"
      ]
     },
     "execution_count": 19,
     "metadata": {},
     "output_type": "execute_result"
    },
    {
     "data": {
      "image/png": "[encoded data removed]",
      "text/plain": [
       "<Figure size 432x288 with 1 Axes>"
      ]
     },
     "metadata": {
      "needs_background": "light"
     },
     "output_type": "display_data"
    }
   ],
   "source": [
    "sb.distplot(data.Na_to_K)"
   ]
  },
  {
   "cell_type": "markdown",
   "metadata": {
    "papermill": {
     "duration": 0.055627,
     "end_time": "2020-11-23T13:13:16.159063",
     "exception": false,
     "start_time": "2020-11-23T13:13:16.103436",
     "status": "completed"
    },
    "tags": []
   },
   "source": [
    "Sodium-Potassium ratio ranges from 6.269 to 38.247"
   ]
  },
  {
   "cell_type": "markdown",
   "metadata": {
    "papermill": {
     "duration": 0.055534,
     "end_time": "2020-11-23T13:13:16.271607",
     "exception": false,
     "start_time": "2020-11-23T13:13:16.216073",
     "status": "completed"
    },
    "tags": []
   },
   "source": [
    "## Drug:\n",
    "### Drug administered to the patient"
   ]
  },
  {
   "cell_type": "code",
   "execution_count": 20,
   "metadata": {
    "execution": {
     "iopub.execute_input": "2020-11-23T13:13:16.393709Z",
     "iopub.status.busy": "2020-11-23T13:13:16.392930Z",
     "iopub.status.idle": "2020-11-23T13:13:16.397032Z",
     "shell.execute_reply": "2020-11-23T13:13:16.396518Z"
    },
    "papermill": {
     "duration": 0.068076,
     "end_time": "2020-11-23T13:13:16.397151",
     "exception": false,
     "start_time": "2020-11-23T13:13:16.329075",
     "status": "completed"
    },
    "tags": []
   },
   "outputs": [
    {
     "data": {
      "text/plain": [
       "DrugY    91\n",
       "drugX    54\n",
       "drugA    23\n",
       "drugB    16\n",
       "drugC    16\n",
       "Name: Drug, dtype: int64"
      ]
     },
     "execution_count": 20,
     "metadata": {},
     "output_type": "execute_result"
    }
   ],
   "source": [
    "data.Drug.value_counts()"
   ]
  },
  {
   "cell_type": "code",
   "execution_count": 21,
   "metadata": {
    "execution": {
     "iopub.execute_input": "2020-11-23T13:13:16.569516Z",
     "iopub.status.busy": "2020-11-23T13:13:16.568765Z",
     "iopub.status.idle": "2020-11-23T13:13:16.679501Z",
     "shell.execute_reply": "2020-11-23T13:13:16.678872Z"
    },
    "papermill": {
     "duration": 0.175971,
     "end_time": "2020-11-23T13:13:16.679618",
     "exception": false,
     "start_time": "2020-11-23T13:13:16.503647",
     "status": "completed"
    },
    "tags": []
   },
   "outputs": [
    {
     "data": {
      "text/plain": [
       "<matplotlib.axes._subplots.AxesSubplot at 0x7fb2eb7639d0>"
      ]
     },
     "execution_count": 21,
     "metadata": {},
     "output_type": "execute_result"
    },
    {
     "data": {
      "image/png": "[encoded data removed]",
      "text/plain": [
       "<Figure size 432x288 with 1 Axes>"
      ]
     },
     "metadata": {
      "needs_background": "light"
     },
     "output_type": "display_data"
    }
   ],
   "source": [
    "sb.countplot(data.Drug)"
   ]
  },
  {
   "cell_type": "markdown",
   "metadata": {
    "papermill": {
     "duration": 0.056252,
     "end_time": "2020-11-23T13:13:16.793099",
     "exception": false,
     "start_time": "2020-11-23T13:13:16.736847",
     "status": "completed"
    },
    "tags": []
   },
   "source": [
    "Drug is the target column(value) or label."
   ]
  },
  {
   "cell_type": "markdown",
   "metadata": {
    "papermill": {
     "duration": 0.05779,
     "end_time": "2020-11-23T13:13:16.908531",
     "exception": false,
     "start_time": "2020-11-23T13:13:16.850741",
     "status": "completed"
    },
    "tags": []
   },
   "source": [
    "# Relationship between features and target value:"
   ]
  },
  {
   "cell_type": "markdown",
   "metadata": {
    "papermill": {
     "duration": 0.056381,
     "end_time": "2020-11-23T13:13:17.023233",
     "exception": false,
     "start_time": "2020-11-23T13:13:16.966852",
     "status": "completed"
    },
    "tags": []
   },
   "source": [
    "## Age - Drug"
   ]
  },
  {
   "cell_type": "code",
   "execution_count": 22,
   "metadata": {
    "execution": {
     "iopub.execute_input": "2020-11-23T13:13:17.145486Z",
     "iopub.status.busy": "2020-11-23T13:13:17.144142Z",
     "iopub.status.idle": "2020-11-23T13:13:17.352088Z",
     "shell.execute_reply": "2020-11-23T13:13:17.351436Z"
    },
    "papermill": {
     "duration": 0.272385,
     "end_time": "2020-11-23T13:13:17.352202",
     "exception": false,
     "start_time": "2020-11-23T13:13:17.079817",
     "status": "completed"
    },
    "tags": []
   },
   "outputs": [
    {
     "data": {
      "text/plain": [
       "Text(0.5, 1.0, 'Age to Drug')"
      ]
     },
     "execution_count": 22,
     "metadata": {},
     "output_type": "execute_result"
    },
    {
     "data": {
      "image/png": "[encoded data removed]",
      "text/plain": [
       "<Figure size 432x288 with 1 Axes>"
      ]
     },
     "metadata": {
      "needs_background": "light"
     },
     "output_type": "display_data"
    }
   ],
   "source": [
    "sb.swarmplot(x = \"Drug\", y = \"Age\",data = data)\n",
    "plt.legend(data.Drug.value_counts().index)\n",
    "plt.title(\"Age to Drug\")"
   ]
  },
  {
   "cell_type": "code",
   "execution_count": 23,
   "metadata": {
    "execution": {
     "iopub.execute_input": "2020-11-23T13:13:17.478203Z",
     "iopub.status.busy": "2020-11-23T13:13:17.477429Z",
     "iopub.status.idle": "2020-11-23T13:13:17.480799Z",
     "shell.execute_reply": "2020-11-23T13:13:17.481781Z"
    },
    "papermill": {
     "duration": 0.071323,
     "end_time": "2020-11-23T13:13:17.482003",
     "exception": false,
     "start_time": "2020-11-23T13:13:17.410680",
     "status": "completed"
    },
    "tags": []
   },
   "outputs": [
    {
     "name": "stdout",
     "output_type": "stream",
     "text": [
      "Maximum Age for administering Drug A: 50\n",
      "Minimum Age for administering Drug B: 51\n"
     ]
    }
   ],
   "source": [
    "print(\"Maximum Age for administering Drug A:\",data.Age[data.Drug == \"drugA\"].max())\n",
    "print(\"Minimum Age for administering Drug B:\",data.Age[data.Drug == \"drugB\"].min())"
   ]
  },
  {
   "cell_type": "markdown",
   "metadata": {
    "papermill": {
     "duration": 0.059881,
     "end_time": "2020-11-23T13:13:17.604162",
     "exception": false,
     "start_time": "2020-11-23T13:13:17.544281",
     "status": "completed"
    },
    "tags": []
   },
   "source": [
    "Drug A is administered to patients below 50 years.\n",
    "\n",
    "Drug B is administered to patients above 51 years."
   ]
  },
  {
   "cell_type": "markdown",
   "metadata": {
    "papermill": {
     "duration": 0.05891,
     "end_time": "2020-11-23T13:13:17.723633",
     "exception": false,
     "start_time": "2020-11-23T13:13:17.664723",
     "status": "completed"
    },
    "tags": []
   },
   "source": [
    "## Sex - Drug"
   ]
  },
  {
   "cell_type": "code",
   "execution_count": 24,
   "metadata": {
    "execution": {
     "iopub.execute_input": "2020-11-23T13:13:17.867004Z",
     "iopub.status.busy": "2020-11-23T13:13:17.862002Z",
     "iopub.status.idle": "2020-11-23T13:13:18.016241Z",
     "shell.execute_reply": "2020-11-23T13:13:18.016822Z"
    },
    "papermill": {
     "duration": 0.231978,
     "end_time": "2020-11-23T13:13:18.016980",
     "exception": false,
     "start_time": "2020-11-23T13:13:17.785002",
     "status": "completed"
    },
    "tags": []
   },
   "outputs": [
    {
     "data": {
      "text/plain": [
       "Text(0.5, 1.0, 'Sex to Drug')"
      ]
     },
     "execution_count": 24,
     "metadata": {},
     "output_type": "execute_result"
    },
    {
     "data": {
      "image/png": "[encoded data removed]",
      "text/plain": [
       "<Figure size 432x288 with 1 Axes>"
      ]
     },
     "metadata": {
      "needs_background": "light"
     },
     "output_type": "display_data"
    }
   ],
   "source": [
    "sex_drug = data.groupby(['Drug','Sex']).size().reset_index(name = 'Count')\n",
    "sb.barplot(x = 'Drug',y = 'Count', hue = 'Sex', data = sex_drug)\n",
    "plt.title('Sex to Drug')"
   ]
  },
  {
   "cell_type": "markdown",
   "metadata": {
    "papermill": {
     "duration": 0.059913,
     "end_time": "2020-11-23T13:13:18.136457",
     "exception": false,
     "start_time": "2020-11-23T13:13:18.076544",
     "status": "completed"
    },
    "tags": []
   },
   "source": [
    "From this graph, we find Sex is not an important feature for classification."
   ]
  },
  {
   "cell_type": "markdown",
   "metadata": {
    "papermill": {
     "duration": 0.061277,
     "end_time": "2020-11-23T13:13:18.258472",
     "exception": false,
     "start_time": "2020-11-23T13:13:18.197195",
     "status": "completed"
    },
    "tags": []
   },
   "source": [
    "## BP - Drug"
   ]
  },
  {
   "cell_type": "code",
   "execution_count": 25,
   "metadata": {
    "execution": {
     "iopub.execute_input": "2020-11-23T13:13:18.406853Z",
     "iopub.status.busy": "2020-11-23T13:13:18.402166Z",
     "iopub.status.idle": "2020-11-23T13:13:18.593772Z",
     "shell.execute_reply": "2020-11-23T13:13:18.593036Z"
    },
    "papermill": {
     "duration": 0.273109,
     "end_time": "2020-11-23T13:13:18.593923",
     "exception": false,
     "start_time": "2020-11-23T13:13:18.320814",
     "status": "completed"
    },
    "tags": []
   },
   "outputs": [
    {
     "data": {
      "text/plain": [
       "Text(0.5, 1.0, 'BP to Drug')"
      ]
     },
     "execution_count": 25,
     "metadata": {},
     "output_type": "execute_result"
    },
    {
     "data": {
      "image/png": "[encoded data removed]",
      "text/plain": [
       "<Figure size 432x288 with 1 Axes>"
      ]
     },
     "metadata": {
      "needs_background": "light"
     },
     "output_type": "display_data"
    }
   ],
   "source": [
    "BP_drug = data.groupby(['Drug','BP']).size().reset_index(name = 'Count')\n",
    "sb.barplot(x = 'Drug',y = 'Count', hue = 'BP', data = BP_drug)\n",
    "plt.title('BP to Drug')"
   ]
  },
  {
   "cell_type": "markdown",
   "metadata": {
    "papermill": {
     "duration": 0.060183,
     "end_time": "2020-11-23T13:13:18.714106",
     "exception": false,
     "start_time": "2020-11-23T13:13:18.653923",
     "status": "completed"
    },
    "tags": []
   },
   "source": [
    "Drug A and Drug B is administered only for people who have HIGH blood pressure.\n",
    "\n",
    "Drug C is administered only for people who have LOW blood pressure.\n",
    "\n",
    "BP is an important feature for classification."
   ]
  },
  {
   "cell_type": "markdown",
   "metadata": {
    "papermill": {
     "duration": 0.060174,
     "end_time": "2020-11-23T13:13:18.835374",
     "exception": false,
     "start_time": "2020-11-23T13:13:18.775200",
     "status": "completed"
    },
    "tags": []
   },
   "source": [
    "## Cholesterol - Drug"
   ]
  },
  {
   "cell_type": "code",
   "execution_count": 26,
   "metadata": {
    "execution": {
     "iopub.execute_input": "2020-11-23T13:13:18.965964Z",
     "iopub.status.busy": "2020-11-23T13:13:18.963511Z",
     "iopub.status.idle": "2020-11-23T13:13:19.136566Z",
     "shell.execute_reply": "2020-11-23T13:13:19.136042Z"
    },
    "papermill": {
     "duration": 0.240624,
     "end_time": "2020-11-23T13:13:19.136681",
     "exception": false,
     "start_time": "2020-11-23T13:13:18.896057",
     "status": "completed"
    },
    "tags": []
   },
   "outputs": [
    {
     "data": {
      "text/plain": [
       "Text(0.5, 1.0, 'Cholesterol to Drug')"
      ]
     },
     "execution_count": 26,
     "metadata": {},
     "output_type": "execute_result"
    },
    {
     "data": {
      "image/png": "[encoded data removed]",
      "text/plain": [
       "<Figure size 432x288 with 1 Axes>"
      ]
     },
     "metadata": {
      "needs_background": "light"
     },
     "output_type": "display_data"
    }
   ],
   "source": [
    "BP_drug = data.groupby(['Drug','Cholesterol']).size().reset_index(name = 'Count')\n",
    "sb.barplot(x = 'Drug',y = 'Count', hue = 'Cholesterol', data = BP_drug)\n",
    "plt.title('Cholesterol to Drug')"
   ]
  },
  {
   "cell_type": "markdown",
   "metadata": {
    "papermill": {
     "duration": 0.064056,
     "end_time": "2020-11-23T13:13:19.262655",
     "exception": false,
     "start_time": "2020-11-23T13:13:19.198599",
     "status": "completed"
    },
    "tags": []
   },
   "source": [
    "Drug C is only administered for patients with HIGH Cholesterol.\n",
    "\n",
    "Cholesterol is important feature to classify Drug C."
   ]
  },
  {
   "cell_type": "markdown",
   "metadata": {
    "papermill": {
     "duration": 0.061182,
     "end_time": "2020-11-23T13:13:19.386463",
     "exception": false,
     "start_time": "2020-11-23T13:13:19.325281",
     "status": "completed"
    },
    "tags": []
   },
   "source": [
    "## Na_to_K - Drug"
   ]
  },
  {
   "cell_type": "code",
   "execution_count": 27,
   "metadata": {
    "execution": {
     "iopub.execute_input": "2020-11-23T13:13:19.523950Z",
     "iopub.status.busy": "2020-11-23T13:13:19.523234Z",
     "iopub.status.idle": "2020-11-23T13:13:19.687212Z",
     "shell.execute_reply": "2020-11-23T13:13:19.686575Z"
    },
    "papermill": {
     "duration": 0.238938,
     "end_time": "2020-11-23T13:13:19.687323",
     "exception": false,
     "start_time": "2020-11-23T13:13:19.448385",
     "status": "completed"
    },
    "tags": []
   },
   "outputs": [
    {
     "data": {
      "text/plain": [
       "Text(0.5, 1.0, 'Na_to_K - Drug')"
      ]
     },
     "execution_count": 27,
     "metadata": {},
     "output_type": "execute_result"
    },
    {
     "data": {
      "image/png": "[encoded data removed]",
      "text/plain": [
       "<Figure size 432x288 with 1 Axes>"
      ]
     },
     "metadata": {
      "needs_background": "light"
     },
     "output_type": "display_data"
    }
   ],
   "source": [
    "sb.swarmplot(x = \"Drug\", y = \"Na_to_K\",data = data)\n",
    "plt.title(\"Na_to_K - Drug\")"
   ]
  },
  {
   "cell_type": "code",
   "execution_count": 28,
   "metadata": {
    "execution": {
     "iopub.execute_input": "2020-11-23T13:13:19.820441Z",
     "iopub.status.busy": "2020-11-23T13:13:19.819541Z",
     "iopub.status.idle": "2020-11-23T13:13:19.823229Z",
     "shell.execute_reply": "2020-11-23T13:13:19.822612Z"
    },
    "papermill": {
     "duration": 0.073338,
     "end_time": "2020-11-23T13:13:19.823346",
     "exception": false,
     "start_time": "2020-11-23T13:13:19.750008",
     "status": "completed"
    },
    "tags": []
   },
   "outputs": [
    {
     "name": "stdout",
     "output_type": "stream",
     "text": [
      "Minimum value of Na_to_K for Drug Y: 15.015\n"
     ]
    }
   ],
   "source": [
    "print(\"Minimum value of Na_to_K for Drug Y:\",data.Na_to_K[data.Drug == \"DrugY\"].min())"
   ]
  },
  {
   "cell_type": "markdown",
   "metadata": {
    "papermill": {
     "duration": 0.062933,
     "end_time": "2020-11-23T13:13:19.949955",
     "exception": false,
     "start_time": "2020-11-23T13:13:19.887022",
     "status": "completed"
    },
    "tags": []
   },
   "source": [
    "People who have Na_to_K ratio is greater than 15, Drug Y is administered.\n",
    "\n",
    "We can create a new feature from this feature for better classification of Drug Y."
   ]
  },
  {
   "cell_type": "markdown",
   "metadata": {
    "papermill": {
     "duration": 0.063495,
     "end_time": "2020-11-23T13:13:20.078924",
     "exception": false,
     "start_time": "2020-11-23T13:13:20.015429",
     "status": "completed"
    },
    "tags": []
   },
   "source": [
    "# Data preprocessing:"
   ]
  },
  {
   "cell_type": "markdown",
   "metadata": {
    "papermill": {
     "duration": 0.063219,
     "end_time": "2020-11-23T13:13:20.206338",
     "exception": false,
     "start_time": "2020-11-23T13:13:20.143119",
     "status": "completed"
    },
    "tags": []
   },
   "source": [
    "## Feature Engineering"
   ]
  },
  {
   "cell_type": "code",
   "execution_count": 29,
   "metadata": {
    "execution": {
     "iopub.execute_input": "2020-11-23T13:13:20.339077Z",
     "iopub.status.busy": "2020-11-23T13:13:20.338404Z",
     "iopub.status.idle": "2020-11-23T13:13:20.359298Z",
     "shell.execute_reply": "2020-11-23T13:13:20.358525Z"
    },
    "papermill": {
     "duration": 0.089948,
     "end_time": "2020-11-23T13:13:20.359433",
     "exception": false,
     "start_time": "2020-11-23T13:13:20.269485",
     "status": "completed"
    },
    "tags": []
   },
   "outputs": [],
   "source": [
    "data['Na_to_K>15'] = np.where(data['Na_to_K'] > 15, 1, 0)"
   ]
  },
  {
   "cell_type": "markdown",
   "metadata": {
    "papermill": {
     "duration": 0.078506,
     "end_time": "2020-11-23T13:13:20.515574",
     "exception": false,
     "start_time": "2020-11-23T13:13:20.437068",
     "status": "completed"
    },
    "tags": []
   },
   "source": [
    "## Label Encoding"
   ]
  },
  {
   "cell_type": "code",
   "execution_count": 30,
   "metadata": {
    "execution": {
     "iopub.execute_input": "2020-11-23T13:13:20.669927Z",
     "iopub.status.busy": "2020-11-23T13:13:20.668718Z",
     "iopub.status.idle": "2020-11-23T13:13:20.671641Z",
     "shell.execute_reply": "2020-11-23T13:13:20.672470Z"
    },
    "papermill": {
     "duration": 0.085711,
     "end_time": "2020-11-23T13:13:20.672703",
     "exception": false,
     "start_time": "2020-11-23T13:13:20.586992",
     "status": "completed"
    },
    "tags": []
   },
   "outputs": [],
   "source": [
    "from sklearn import preprocessing \n",
    "label_encode = preprocessing.LabelEncoder() "
   ]
  },
  {
   "cell_type": "code",
   "execution_count": 31,
   "metadata": {
    "execution": {
     "iopub.execute_input": "2020-11-23T13:13:20.830282Z",
     "iopub.status.busy": "2020-11-23T13:13:20.829209Z",
     "iopub.status.idle": "2020-11-23T13:13:20.832379Z",
     "shell.execute_reply": "2020-11-23T13:13:20.831842Z"
    },
    "papermill": {
     "duration": 0.07963,
     "end_time": "2020-11-23T13:13:20.832490",
     "exception": false,
     "start_time": "2020-11-23T13:13:20.752860",
     "status": "completed"
    },
    "tags": []
   },
   "outputs": [],
   "source": [
    "label_encode_list = ['Sex','BP','Cholesterol','Na_to_K>15','Drug']\n",
    "\n",
    "for i in label_encode_list:\n",
    "    data[i] = label_encode.fit_transform(data[i])"
   ]
  },
  {
   "cell_type": "code",
   "execution_count": 32,
   "metadata": {
    "execution": {
     "iopub.execute_input": "2020-11-23T13:13:20.979583Z",
     "iopub.status.busy": "2020-11-23T13:13:20.978471Z",
     "iopub.status.idle": "2020-11-23T13:13:20.983400Z",
     "shell.execute_reply": "2020-11-23T13:13:20.982716Z"
    },
    "papermill": {
     "duration": 0.085306,
     "end_time": "2020-11-23T13:13:20.983529",
     "exception": false,
     "start_time": "2020-11-23T13:13:20.898223",
     "status": "completed"
    },
    "tags": []
   },
   "outputs": [
    {
     "data": {
      "text/html": [
       "<div>\n",
       "<style scoped>\n",
       "    .dataframe tbody tr th:only-of-type {\n",
       "        vertical-align: middle;\n",
       "    }\n",
       "\n",
       "    .dataframe tbody tr th {\n",
       "        vertical-align: top;\n",
       "    }\n",
       "\n",
       "    .dataframe thead th {\n",
       "        text-align: right;\n",
       "    }\n",
       "</style>\n",
       "<table border=\"1\" class=\"dataframe\">\n",
       "  <thead>\n",
       "    <tr style=\"text-align: right;\">\n",
       "      <th></th>\n",
       "      <th>Age</th>\n",
       "      <th>Sex</th>\n",
       "      <th>BP</th>\n",
       "      <th>Cholesterol</th>\n",
       "      <th>Na_to_K</th>\n",
       "      <th>Drug</th>\n",
       "      <th>Na_to_K&gt;15</th>\n",
       "    </tr>\n",
       "  </thead>\n",
       "  <tbody>\n",
       "    <tr>\n",
       "      <th>0</th>\n",
       "      <td>23</td>\n",
       "      <td>0</td>\n",
       "      <td>0</td>\n",
       "      <td>0</td>\n",
       "      <td>25.355</td>\n",
       "      <td>0</td>\n",
       "      <td>1</td>\n",
       "    </tr>\n",
       "    <tr>\n",
       "      <th>1</th>\n",
       "      <td>47</td>\n",
       "      <td>1</td>\n",
       "      <td>1</td>\n",
       "      <td>0</td>\n",
       "      <td>13.093</td>\n",
       "      <td>3</td>\n",
       "      <td>0</td>\n",
       "    </tr>\n",
       "    <tr>\n",
       "      <th>2</th>\n",
       "      <td>47</td>\n",
       "      <td>1</td>\n",
       "      <td>1</td>\n",
       "      <td>0</td>\n",
       "      <td>10.114</td>\n",
       "      <td>3</td>\n",
       "      <td>0</td>\n",
       "    </tr>\n",
       "    <tr>\n",
       "      <th>3</th>\n",
       "      <td>28</td>\n",
       "      <td>0</td>\n",
       "      <td>2</td>\n",
       "      <td>0</td>\n",
       "      <td>7.798</td>\n",
       "      <td>4</td>\n",
       "      <td>0</td>\n",
       "    </tr>\n",
       "    <tr>\n",
       "      <th>4</th>\n",
       "      <td>61</td>\n",
       "      <td>0</td>\n",
       "      <td>1</td>\n",
       "      <td>0</td>\n",
       "      <td>18.043</td>\n",
       "      <td>0</td>\n",
       "      <td>1</td>\n",
       "    </tr>\n",
       "  </tbody>\n",
       "</table>\n",
       "</div>"
      ],
      "text/plain": [
       "   Age  Sex  BP  Cholesterol  Na_to_K  Drug  Na_to_K>15\n",
       "0   23    0   0            0   25.355     0           1\n",
       "1   47    1   1            0   13.093     3           0\n",
       "2   47    1   1            0   10.114     3           0\n",
       "3   28    0   2            0    7.798     4           0\n",
       "4   61    0   1            0   18.043     0           1"
      ]
     },
     "execution_count": 32,
     "metadata": {},
     "output_type": "execute_result"
    }
   ],
   "source": [
    "data.head()"
   ]
  },
  {
   "cell_type": "markdown",
   "metadata": {
    "papermill": {
     "duration": 0.066068,
     "end_time": "2020-11-23T13:13:21.115745",
     "exception": false,
     "start_time": "2020-11-23T13:13:21.049677",
     "status": "completed"
    },
    "tags": []
   },
   "source": [
    "# Train-Test split for the dataset"
   ]
  },
  {
   "cell_type": "code",
   "execution_count": 33,
   "metadata": {
    "execution": {
     "iopub.execute_input": "2020-11-23T13:13:21.257085Z",
     "iopub.status.busy": "2020-11-23T13:13:21.256278Z",
     "iopub.status.idle": "2020-11-23T13:13:21.259474Z",
     "shell.execute_reply": "2020-11-23T13:13:21.258822Z"
    },
    "papermill": {
     "duration": 0.074708,
     "end_time": "2020-11-23T13:13:21.259584",
     "exception": false,
     "start_time": "2020-11-23T13:13:21.184876",
     "status": "completed"
    },
    "tags": []
   },
   "outputs": [],
   "source": [
    "from sklearn.model_selection import train_test_split"
   ]
  },
  {
   "cell_type": "code",
   "execution_count": 34,
   "metadata": {
    "execution": {
     "iopub.execute_input": "2020-11-23T13:13:21.405003Z",
     "iopub.status.busy": "2020-11-23T13:13:21.404094Z",
     "iopub.status.idle": "2020-11-23T13:13:21.407408Z",
     "shell.execute_reply": "2020-11-23T13:13:21.406732Z"
    },
    "papermill": {
     "duration": 0.081799,
     "end_time": "2020-11-23T13:13:21.407527",
     "exception": false,
     "start_time": "2020-11-23T13:13:21.325728",
     "status": "completed"
    },
    "tags": []
   },
   "outputs": [],
   "source": [
    "x = data.drop(['Drug'], axis = 1)\n",
    "y = data.Drug"
   ]
  },
  {
   "cell_type": "code",
   "execution_count": 35,
   "metadata": {
    "execution": {
     "iopub.execute_input": "2020-11-23T13:13:21.557232Z",
     "iopub.status.busy": "2020-11-23T13:13:21.556148Z",
     "iopub.status.idle": "2020-11-23T13:13:21.559719Z",
     "shell.execute_reply": "2020-11-23T13:13:21.558984Z"
    },
    "papermill": {
     "duration": 0.082505,
     "end_time": "2020-11-23T13:13:21.559870",
     "exception": false,
     "start_time": "2020-11-23T13:13:21.477365",
     "status": "completed"
    },
    "tags": []
   },
   "outputs": [],
   "source": [
    "x_train, x_test, y_train, y_test = train_test_split(x, y, test_size = 0.2, random_state = 42, shuffle = True)\n"
   ]
  },
  {
   "cell_type": "code",
   "execution_count": 36,
   "metadata": {
    "execution": {
     "iopub.execute_input": "2020-11-23T13:13:21.703661Z",
     "iopub.status.busy": "2020-11-23T13:13:21.702833Z",
     "iopub.status.idle": "2020-11-23T13:13:21.705600Z",
     "shell.execute_reply": "2020-11-23T13:13:21.706144Z"
    },
    "papermill": {
     "duration": 0.076714,
     "end_time": "2020-11-23T13:13:21.706303",
     "exception": false,
     "start_time": "2020-11-23T13:13:21.629589",
     "status": "completed"
    },
    "tags": []
   },
   "outputs": [],
   "source": [
    "\n",
    "y_train = y_train.values.reshape(-1,1)\n",
    "y_test = y_test.values.reshape(-1,1)"
   ]
  },
  {
   "cell_type": "code",
   "execution_count": 37,
   "metadata": {
    "execution": {
     "iopub.execute_input": "2020-11-23T13:13:21.851477Z",
     "iopub.status.busy": "2020-11-23T13:13:21.850647Z",
     "iopub.status.idle": "2020-11-23T13:13:21.854830Z",
     "shell.execute_reply": "2020-11-23T13:13:21.855446Z"
    },
    "papermill": {
     "duration": 0.079723,
     "end_time": "2020-11-23T13:13:21.855606",
     "exception": false,
     "start_time": "2020-11-23T13:13:21.775883",
     "status": "completed"
    },
    "tags": []
   },
   "outputs": [
    {
     "name": "stdout",
     "output_type": "stream",
     "text": [
      "x_train shape: (160, 6)\n",
      "x_test shape: (40, 6)\n",
      "y_train shape: (160, 1)\n",
      "y_test shape: (40, 1)\n"
     ]
    }
   ],
   "source": [
    "print('x_train shape:', x_train.shape)\n",
    "print('x_test shape:', x_test.shape)\n",
    "print('y_train shape:', y_train.shape)\n",
    "print('y_test shape:', y_test.shape)"
   ]
  },
  {
   "cell_type": "markdown",
   "metadata": {
    "papermill": {
     "duration": 0.069305,
     "end_time": "2020-11-23T13:13:21.994045",
     "exception": false,
     "start_time": "2020-11-23T13:13:21.924740",
     "status": "completed"
    },
    "tags": []
   },
   "source": [
    "Dataset is split into training and test data in 4:1 ratio"
   ]
  },
  {
   "cell_type": "markdown",
   "metadata": {
    "papermill": {
     "duration": 0.068718,
     "end_time": "2020-11-23T13:13:22.131613",
     "exception": false,
     "start_time": "2020-11-23T13:13:22.062895",
     "status": "completed"
    },
    "tags": []
   },
   "source": [
    "# Model for the data"
   ]
  },
  {
   "cell_type": "markdown",
   "metadata": {
    "papermill": {
     "duration": 0.068599,
     "end_time": "2020-11-23T13:13:22.271298",
     "exception": false,
     "start_time": "2020-11-23T13:13:22.202699",
     "status": "completed"
    },
    "tags": []
   },
   "source": [
    "## KNN Classifier"
   ]
  },
  {
   "cell_type": "code",
   "execution_count": 38,
   "metadata": {
    "execution": {
     "iopub.execute_input": "2020-11-23T13:13:22.412576Z",
     "iopub.status.busy": "2020-11-23T13:13:22.411925Z",
     "iopub.status.idle": "2020-11-23T13:13:22.536661Z",
     "shell.execute_reply": "2020-11-23T13:13:22.535941Z"
    },
    "papermill": {
     "duration": 0.196795,
     "end_time": "2020-11-23T13:13:22.536777",
     "exception": false,
     "start_time": "2020-11-23T13:13:22.339982",
     "status": "completed"
    },
    "tags": []
   },
   "outputs": [],
   "source": [
    "from sklearn.neighbors import KNeighborsClassifier\n",
    "knn = KNeighborsClassifier()\n",
    "\n",
    "knn.fit(x_train,y_train)\n",
    "knnPred = knn.predict(x_test)"
   ]
  },
  {
   "cell_type": "code",
   "execution_count": 39,
   "metadata": {
    "execution": {
     "iopub.execute_input": "2020-11-23T13:13:22.675378Z",
     "iopub.status.busy": "2020-11-23T13:13:22.674030Z",
     "iopub.status.idle": "2020-11-23T13:13:22.681334Z",
     "shell.execute_reply": "2020-11-23T13:13:22.680731Z"
    },
    "papermill": {
     "duration": 0.07916,
     "end_time": "2020-11-23T13:13:22.681437",
     "exception": false,
     "start_time": "2020-11-23T13:13:22.602277",
     "status": "completed"
    },
    "tags": []
   },
   "outputs": [
    {
     "data": {
      "text/plain": [
       "0.7"
      ]
     },
     "execution_count": 39,
     "metadata": {},
     "output_type": "execute_result"
    }
   ],
   "source": [
    "knn.score(x_test,y_test)"
   ]
  },
  {
   "cell_type": "code",
   "execution_count": 40,
   "metadata": {
    "execution": {
     "iopub.execute_input": "2020-11-23T13:13:22.821253Z",
     "iopub.status.busy": "2020-11-23T13:13:22.820386Z",
     "iopub.status.idle": "2020-11-23T13:13:37.387068Z",
     "shell.execute_reply": "2020-11-23T13:13:37.386388Z"
    },
    "papermill": {
     "duration": 14.64024,
     "end_time": "2020-11-23T13:13:37.387202",
     "exception": false,
     "start_time": "2020-11-23T13:13:22.746962",
     "status": "completed"
    },
    "tags": []
   },
   "outputs": [
    {
     "data": {
      "text/plain": [
       "0.75"
      ]
     },
     "execution_count": 40,
     "metadata": {},
     "output_type": "execute_result"
    }
   ],
   "source": [
    "grid = {'n_neighbors':np.arange(1,120),\n",
    "        'p':np.arange(1,3),\n",
    "        'weights':['uniform','distance']\n",
    "       }\n",
    "knn_cv = GridSearchCV(knn,grid,cv=5)\n",
    "knn_cv.fit(x_train,y_train)\n",
    "knnCvPred = knn_cv.predict(x_test)\n",
    "knn_cv.score(x_test,y_test)\n"
   ]
  },
  {
   "cell_type": "code",
   "execution_count": 41,
   "metadata": {
    "execution": {
     "iopub.execute_input": "2020-11-23T13:13:37.531839Z",
     "iopub.status.busy": "2020-11-23T13:13:37.530819Z",
     "iopub.status.idle": "2020-11-23T13:13:37.534907Z",
     "shell.execute_reply": "2020-11-23T13:13:37.534255Z"
    },
    "papermill": {
     "duration": 0.076223,
     "end_time": "2020-11-23T13:13:37.535029",
     "exception": false,
     "start_time": "2020-11-23T13:13:37.458806",
     "status": "completed"
    },
    "tags": []
   },
   "outputs": [
    {
     "data": {
      "text/plain": [
       "{'n_neighbors': 8, 'p': 1, 'weights': 'distance'}"
      ]
     },
     "execution_count": 41,
     "metadata": {},
     "output_type": "execute_result"
    }
   ],
   "source": [
    "knn_cv.best_params_"
   ]
  },
  {
   "cell_type": "markdown",
   "metadata": {
    "papermill": {
     "duration": 0.087587,
     "end_time": "2020-11-23T13:13:37.699342",
     "exception": false,
     "start_time": "2020-11-23T13:13:37.611755",
     "status": "completed"
    },
    "tags": []
   },
   "source": [
    "## Decision Tree Classifier"
   ]
  },
  {
   "cell_type": "code",
   "execution_count": 42,
   "metadata": {
    "execution": {
     "iopub.execute_input": "2020-11-23T13:13:37.850609Z",
     "iopub.status.busy": "2020-11-23T13:13:37.849974Z",
     "iopub.status.idle": "2020-11-23T13:13:37.883471Z",
     "shell.execute_reply": "2020-11-23T13:13:37.882845Z"
    },
    "papermill": {
     "duration": 0.106643,
     "end_time": "2020-11-23T13:13:37.883593",
     "exception": false,
     "start_time": "2020-11-23T13:13:37.776950",
     "status": "completed"
    },
    "tags": []
   },
   "outputs": [],
   "source": [
    "from sklearn import tree\n",
    "dt = tree.DecisionTreeClassifier(criterion = \"entropy\")\n",
    "dt.fit(x_train, y_train)\n",
    "dtPred = dt.predict(x_test)"
   ]
  },
  {
   "cell_type": "code",
   "execution_count": 43,
   "metadata": {
    "execution": {
     "iopub.execute_input": "2020-11-23T13:13:38.029226Z",
     "iopub.status.busy": "2020-11-23T13:13:38.028294Z",
     "iopub.status.idle": "2020-11-23T13:13:38.032792Z",
     "shell.execute_reply": "2020-11-23T13:13:38.032288Z"
    },
    "papermill": {
     "duration": 0.080866,
     "end_time": "2020-11-23T13:13:38.032922",
     "exception": false,
     "start_time": "2020-11-23T13:13:37.952056",
     "status": "completed"
    },
    "tags": []
   },
   "outputs": [
    {
     "data": {
      "text/plain": [
       "1.0"
      ]
     },
     "execution_count": 43,
     "metadata": {},
     "output_type": "execute_result"
    }
   ],
   "source": [
    "dt.score(x_test,y_test)"
   ]
  },
  {
   "cell_type": "code",
   "execution_count": 44,
   "metadata": {
    "execution": {
     "iopub.execute_input": "2020-11-23T13:13:38.178242Z",
     "iopub.status.busy": "2020-11-23T13:13:38.177273Z",
     "iopub.status.idle": "2020-11-23T13:13:38.374788Z",
     "shell.execute_reply": "2020-11-23T13:13:38.374239Z"
    },
    "papermill": {
     "duration": 0.274297,
     "end_time": "2020-11-23T13:13:38.374933",
     "exception": false,
     "start_time": "2020-11-23T13:13:38.100636",
     "status": "completed"
    },
    "tags": []
   },
   "outputs": [],
   "source": [
    "grid = {'criterion':['gini','entropy'],'max_depth':np.arange(1,5)}\n",
    "dt_cv = GridSearchCV(dt, grid, cv=5)\n",
    "dt_cv.fit(x_train, y_train)\n",
    "dtCvPred = dt_cv.predict(x_test)"
   ]
  },
  {
   "cell_type": "code",
   "execution_count": 45,
   "metadata": {
    "execution": {
     "iopub.execute_input": "2020-11-23T13:13:38.519312Z",
     "iopub.status.busy": "2020-11-23T13:13:38.518326Z",
     "iopub.status.idle": "2020-11-23T13:13:38.522964Z",
     "shell.execute_reply": "2020-11-23T13:13:38.523797Z"
    },
    "papermill": {
     "duration": 0.081557,
     "end_time": "2020-11-23T13:13:38.524002",
     "exception": false,
     "start_time": "2020-11-23T13:13:38.442445",
     "status": "completed"
    },
    "tags": []
   },
   "outputs": [
    {
     "name": "stdout",
     "output_type": "stream",
     "text": [
      "{'criterion': 'gini', 'max_depth': 4}\n"
     ]
    },
    {
     "data": {
      "text/plain": [
       "1.0"
      ]
     },
     "execution_count": 45,
     "metadata": {},
     "output_type": "execute_result"
    }
   ],
   "source": [
    "print(dt_cv.best_params_)\n",
    "dt_cv.score(x_test,y_test)"
   ]
  },
  {
   "cell_type": "code",
   "execution_count": 46,
   "metadata": {
    "execution": {
     "iopub.execute_input": "2020-11-23T13:13:38.669477Z",
     "iopub.status.busy": "2020-11-23T13:13:38.668545Z",
     "iopub.status.idle": "2020-11-23T13:13:39.115240Z",
     "shell.execute_reply": "2020-11-23T13:13:39.114463Z"
    },
    "papermill": {
     "duration": 0.522239,
     "end_time": "2020-11-23T13:13:39.115367",
     "exception": false,
     "start_time": "2020-11-23T13:13:38.593128",
     "status": "completed"
    },
    "tags": []
   },
   "outputs": [
    {
     "data": {
      "image/svg+xml": [
       "<?xml version=\"1.0\" encoding=\"UTF-8\" standalone=\"no\"?>\n",
       "<!DOCTYPE svg PUBLIC \"-//W3C//DTD SVG 1.1//EN\"\n",
       " \"http://www.w3.org/Graphics/SVG/1.1/DTD/svg11.dtd\">\n",
       "<!-- Generated by graphviz version 2.42.3 (20191010.1750)\n",
       " -->\n",
       "<!-- Title: Tree Pages: 1 -->\n",
       "<svg width=\"660pt\" height=\"552pt\"\n",
       " viewBox=\"0.00 0.00 660.00 552.00\" xmlns=\"http://www.w3.org/2000/svg\" xmlns:xlink=\"http://www.w3.org/1999/xlink\">\n",
       "<g id=\"graph0\" class=\"graph\" transform=\"scale(1 1) rotate(0) translate(4 548)\">\n",
       "<title>Tree</title>\n",
       "<polygon fill=\"white\" stroke=\"transparent\" points=\"-4,4 -4,-548 656,-548 656,4 -4,4\"/>\n",
       "<!-- 0 -->\n",
       "<g id=\"node1\" class=\"node\">\n",
       "<title>0</title>\n",
       "<path fill=\"#f8dbc7\" stroke=\"black\" d=\"M488,-544C488,-544 335,-544 335,-544 329,-544 323,-538 323,-532 323,-532 323,-473 323,-473 323,-467 329,-461 335,-461 335,-461 488,-461 488,-461 494,-461 500,-467 500,-473 500,-473 500,-532 500,-532 500,-538 494,-544 488,-544\"/>\n",
       "<text text-anchor=\"middle\" x=\"411.5\" y=\"-528.8\" font-family=\"Helvetica,sans-Serif\" font-size=\"14.00\">Na_to_K &lt;= 14.829</text>\n",
       "<text text-anchor=\"middle\" x=\"411.5\" y=\"-513.8\" font-family=\"Helvetica,sans-Serif\" font-size=\"14.00\">entropy = 1.923</text>\n",
       "<text text-anchor=\"middle\" x=\"411.5\" y=\"-498.8\" font-family=\"Helvetica,sans-Serif\" font-size=\"14.00\">samples = 160</text>\n",
       "<text text-anchor=\"middle\" x=\"411.5\" y=\"-483.8\" font-family=\"Helvetica,sans-Serif\" font-size=\"14.00\">value = [76, 17, 13, 11, 43]</text>\n",
       "<text text-anchor=\"middle\" x=\"411.5\" y=\"-468.8\" font-family=\"Helvetica,sans-Serif\" font-size=\"14.00\">class = DrugY</text>\n",
       "</g>\n",
       "<!-- 1 -->\n",
       "<g id=\"node2\" class=\"node\">\n",
       "<title>1</title>\n",
       "<path fill=\"#f5b2e7\" stroke=\"black\" d=\"M396.5,-425C396.5,-425 250.5,-425 250.5,-425 244.5,-425 238.5,-419 238.5,-413 238.5,-413 238.5,-354 238.5,-354 238.5,-348 244.5,-342 250.5,-342 250.5,-342 396.5,-342 396.5,-342 402.5,-342 408.5,-348 408.5,-354 408.5,-354 408.5,-413 408.5,-413 408.5,-419 402.5,-425 396.5,-425\"/>\n",
       "<text text-anchor=\"middle\" x=\"323.5\" y=\"-409.8\" font-family=\"Helvetica,sans-Serif\" font-size=\"14.00\">BP &lt;= 0.5</text>\n",
       "<text text-anchor=\"middle\" x=\"323.5\" y=\"-394.8\" font-family=\"Helvetica,sans-Serif\" font-size=\"14.00\">entropy = 1.762</text>\n",
       "<text text-anchor=\"middle\" x=\"323.5\" y=\"-379.8\" font-family=\"Helvetica,sans-Serif\" font-size=\"14.00\">samples = 84</text>\n",
       "<text text-anchor=\"middle\" x=\"323.5\" y=\"-364.8\" font-family=\"Helvetica,sans-Serif\" font-size=\"14.00\">value = [0, 17, 13, 11, 43]</text>\n",
       "<text text-anchor=\"middle\" x=\"323.5\" y=\"-349.8\" font-family=\"Helvetica,sans-Serif\" font-size=\"14.00\">class = drugB</text>\n",
       "</g>\n",
       "<!-- 0&#45;&gt;1 -->\n",
       "<g id=\"edge1\" class=\"edge\">\n",
       "<title>0&#45;&gt;1</title>\n",
       "<path fill=\"none\" stroke=\"black\" d=\"M380.97,-460.91C374.21,-451.92 366.98,-442.32 360.02,-433.05\"/>\n",
       "<polygon fill=\"black\" stroke=\"black\" points=\"362.79,-430.91 353.98,-425.02 357.19,-435.12 362.79,-430.91\"/>\n",
       "<text text-anchor=\"middle\" x=\"350.48\" y=\"-446.07\" font-family=\"Helvetica,sans-Serif\" font-size=\"14.00\">True</text>\n",
       "</g>\n",
       "<!-- 10 -->\n",
       "<g id=\"node11\" class=\"node\">\n",
       "<title>10</title>\n",
       "<path fill=\"#e58139\" stroke=\"black\" d=\"M562,-417.5C562,-417.5 439,-417.5 439,-417.5 433,-417.5 427,-411.5 427,-405.5 427,-405.5 427,-361.5 427,-361.5 427,-355.5 433,-349.5 439,-349.5 439,-349.5 562,-349.5 562,-349.5 568,-349.5 574,-355.5 574,-361.5 574,-361.5 574,-405.5 574,-405.5 574,-411.5 568,-417.5 562,-417.5\"/>\n",
       "<text text-anchor=\"middle\" x=\"500.5\" y=\"-402.3\" font-family=\"Helvetica,sans-Serif\" font-size=\"14.00\">entropy = 0.0</text>\n",
       "<text text-anchor=\"middle\" x=\"500.5\" y=\"-387.3\" font-family=\"Helvetica,sans-Serif\" font-size=\"14.00\">samples = 76</text>\n",
       "<text text-anchor=\"middle\" x=\"500.5\" y=\"-372.3\" font-family=\"Helvetica,sans-Serif\" font-size=\"14.00\">value = [76, 0, 0, 0, 0]</text>\n",
       "<text text-anchor=\"middle\" x=\"500.5\" y=\"-357.3\" font-family=\"Helvetica,sans-Serif\" font-size=\"14.00\">class = DrugY</text>\n",
       "</g>\n",
       "<!-- 0&#45;&gt;10 -->\n",
       "<g id=\"edge10\" class=\"edge\">\n",
       "<title>0&#45;&gt;10</title>\n",
       "<path fill=\"none\" stroke=\"black\" d=\"M442.38,-460.91C451.02,-449.54 460.43,-437.18 469.1,-425.77\"/>\n",
       "<polygon fill=\"black\" stroke=\"black\" points=\"472,-427.74 475.27,-417.67 466.43,-423.51 472,-427.74\"/>\n",
       "<text text-anchor=\"middle\" x=\"478.64\" y=\"-438.74\" font-family=\"Helvetica,sans-Serif\" font-size=\"14.00\">False</text>\n",
       "</g>\n",
       "<!-- 2 -->\n",
       "<g id=\"node3\" class=\"node\">\n",
       "<title>2</title>\n",
       "<path fill=\"#e0f9d0\" stroke=\"black\" d=\"M303,-306C303,-306 172,-306 172,-306 166,-306 160,-300 160,-294 160,-294 160,-235 160,-235 160,-229 166,-223 172,-223 172,-223 303,-223 303,-223 309,-223 315,-229 315,-235 315,-235 315,-294 315,-294 315,-300 309,-306 303,-306\"/>\n",
       "<text text-anchor=\"middle\" x=\"237.5\" y=\"-290.8\" font-family=\"Helvetica,sans-Serif\" font-size=\"14.00\">Age &lt;= 50.5</text>\n",
       "<text text-anchor=\"middle\" x=\"237.5\" y=\"-275.8\" font-family=\"Helvetica,sans-Serif\" font-size=\"14.00\">entropy = 0.987</text>\n",
       "<text text-anchor=\"middle\" x=\"237.5\" y=\"-260.8\" font-family=\"Helvetica,sans-Serif\" font-size=\"14.00\">samples = 30</text>\n",
       "<text text-anchor=\"middle\" x=\"237.5\" y=\"-245.8\" font-family=\"Helvetica,sans-Serif\" font-size=\"14.00\">value = [0, 17, 13, 0, 0]</text>\n",
       "<text text-anchor=\"middle\" x=\"237.5\" y=\"-230.8\" font-family=\"Helvetica,sans-Serif\" font-size=\"14.00\">class = drugC</text>\n",
       "</g>\n",
       "<!-- 1&#45;&gt;2 -->\n",
       "<g id=\"edge2\" class=\"edge\">\n",
       "<title>1&#45;&gt;2</title>\n",
       "<path fill=\"none\" stroke=\"black\" d=\"M293.66,-341.91C287.13,-333.01 280.14,-323.51 273.39,-314.33\"/>\n",
       "<polygon fill=\"black\" stroke=\"black\" points=\"276.03,-312.01 267.28,-306.02 270.39,-316.15 276.03,-312.01\"/>\n",
       "</g>\n",
       "<!-- 5 -->\n",
       "<g id=\"node6\" class=\"node\">\n",
       "<title>5</title>\n",
       "<path fill=\"#ec6cd0\" stroke=\"black\" d=\"M476,-306C476,-306 345,-306 345,-306 339,-306 333,-300 333,-294 333,-294 333,-235 333,-235 333,-229 339,-223 345,-223 345,-223 476,-223 476,-223 482,-223 488,-229 488,-235 488,-235 488,-294 488,-294 488,-300 482,-306 476,-306\"/>\n",
       "<text text-anchor=\"middle\" x=\"410.5\" y=\"-290.8\" font-family=\"Helvetica,sans-Serif\" font-size=\"14.00\">BP &lt;= 1.5</text>\n",
       "<text text-anchor=\"middle\" x=\"410.5\" y=\"-275.8\" font-family=\"Helvetica,sans-Serif\" font-size=\"14.00\">entropy = 0.729</text>\n",
       "<text text-anchor=\"middle\" x=\"410.5\" y=\"-260.8\" font-family=\"Helvetica,sans-Serif\" font-size=\"14.00\">samples = 54</text>\n",
       "<text text-anchor=\"middle\" x=\"410.5\" y=\"-245.8\" font-family=\"Helvetica,sans-Serif\" font-size=\"14.00\">value = [0, 0, 0, 11, 43]</text>\n",
       "<text text-anchor=\"middle\" x=\"410.5\" y=\"-230.8\" font-family=\"Helvetica,sans-Serif\" font-size=\"14.00\">class = drugB</text>\n",
       "</g>\n",
       "<!-- 1&#45;&gt;5 -->\n",
       "<g id=\"edge5\" class=\"edge\">\n",
       "<title>1&#45;&gt;5</title>\n",
       "<path fill=\"none\" stroke=\"black\" d=\"M353.68,-341.91C360.36,-332.92 367.51,-323.32 374.4,-314.05\"/>\n",
       "<polygon fill=\"black\" stroke=\"black\" points=\"377.21,-316.13 380.37,-306.02 371.59,-311.96 377.21,-316.13\"/>\n",
       "</g>\n",
       "<!-- 3 -->\n",
       "<g id=\"node4\" class=\"node\">\n",
       "<title>3</title>\n",
       "<path fill=\"#7be539\" stroke=\"black\" d=\"M135,-179.5C135,-179.5 12,-179.5 12,-179.5 6,-179.5 0,-173.5 0,-167.5 0,-167.5 0,-123.5 0,-123.5 0,-117.5 6,-111.5 12,-111.5 12,-111.5 135,-111.5 135,-111.5 141,-111.5 147,-117.5 147,-123.5 147,-123.5 147,-167.5 147,-167.5 147,-173.5 141,-179.5 135,-179.5\"/>\n",
       "<text text-anchor=\"middle\" x=\"73.5\" y=\"-164.3\" font-family=\"Helvetica,sans-Serif\" font-size=\"14.00\">entropy = 0.0</text>\n",
       "<text text-anchor=\"middle\" x=\"73.5\" y=\"-149.3\" font-family=\"Helvetica,sans-Serif\" font-size=\"14.00\">samples = 17</text>\n",
       "<text text-anchor=\"middle\" x=\"73.5\" y=\"-134.3\" font-family=\"Helvetica,sans-Serif\" font-size=\"14.00\">value = [0, 17, 0, 0, 0]</text>\n",
       "<text text-anchor=\"middle\" x=\"73.5\" y=\"-119.3\" font-family=\"Helvetica,sans-Serif\" font-size=\"14.00\">class = drugC</text>\n",
       "</g>\n",
       "<!-- 2&#45;&gt;3 -->\n",
       "<g id=\"edge3\" class=\"edge\">\n",
       "<title>2&#45;&gt;3</title>\n",
       "<path fill=\"none\" stroke=\"black\" d=\"M180.6,-222.91C163.74,-210.88 145.32,-197.73 128.57,-185.79\"/>\n",
       "<polygon fill=\"black\" stroke=\"black\" points=\"130.16,-182.63 119.99,-179.67 126.1,-188.32 130.16,-182.63\"/>\n",
       "</g>\n",
       "<!-- 4 -->\n",
       "<g id=\"node5\" class=\"node\">\n",
       "<title>4</title>\n",
       "<path fill=\"#39e5c5\" stroke=\"black\" d=\"M300,-179.5C300,-179.5 177,-179.5 177,-179.5 171,-179.5 165,-173.5 165,-167.5 165,-167.5 165,-123.5 165,-123.5 165,-117.5 171,-111.5 177,-111.5 177,-111.5 300,-111.5 300,-111.5 306,-111.5 312,-117.5 312,-123.5 312,-123.5 312,-167.5 312,-167.5 312,-173.5 306,-179.5 300,-179.5\"/>\n",
       "<text text-anchor=\"middle\" x=\"238.5\" y=\"-164.3\" font-family=\"Helvetica,sans-Serif\" font-size=\"14.00\">entropy = 0.0</text>\n",
       "<text text-anchor=\"middle\" x=\"238.5\" y=\"-149.3\" font-family=\"Helvetica,sans-Serif\" font-size=\"14.00\">samples = 13</text>\n",
       "<text text-anchor=\"middle\" x=\"238.5\" y=\"-134.3\" font-family=\"Helvetica,sans-Serif\" font-size=\"14.00\">value = [0, 0, 13, 0, 0]</text>\n",
       "<text text-anchor=\"middle\" x=\"238.5\" y=\"-119.3\" font-family=\"Helvetica,sans-Serif\" font-size=\"14.00\">class = drugX</text>\n",
       "</g>\n",
       "<!-- 2&#45;&gt;4 -->\n",
       "<g id=\"edge4\" class=\"edge\">\n",
       "<title>2&#45;&gt;4</title>\n",
       "<path fill=\"none\" stroke=\"black\" d=\"M237.85,-222.91C237.94,-212.2 238.04,-200.62 238.13,-189.78\"/>\n",
       "<polygon fill=\"black\" stroke=\"black\" points=\"241.63,-189.7 238.22,-179.67 234.63,-189.64 241.63,-189.7\"/>\n",
       "</g>\n",
       "<!-- 6 -->\n",
       "<g id=\"node7\" class=\"node\">\n",
       "<title>6</title>\n",
       "<path fill=\"#fdeffa\" stroke=\"black\" d=\"M475,-187C475,-187 344,-187 344,-187 338,-187 332,-181 332,-175 332,-175 332,-116 332,-116 332,-110 338,-104 344,-104 344,-104 475,-104 475,-104 481,-104 487,-110 487,-116 487,-116 487,-175 487,-175 487,-181 481,-187 475,-187\"/>\n",
       "<text text-anchor=\"middle\" x=\"409.5\" y=\"-171.8\" font-family=\"Helvetica,sans-Serif\" font-size=\"14.00\">Cholesterol &lt;= 0.5</text>\n",
       "<text text-anchor=\"middle\" x=\"409.5\" y=\"-156.8\" font-family=\"Helvetica,sans-Serif\" font-size=\"14.00\">entropy = 0.999</text>\n",
       "<text text-anchor=\"middle\" x=\"409.5\" y=\"-141.8\" font-family=\"Helvetica,sans-Serif\" font-size=\"14.00\">samples = 23</text>\n",
       "<text text-anchor=\"middle\" x=\"409.5\" y=\"-126.8\" font-family=\"Helvetica,sans-Serif\" font-size=\"14.00\">value = [0, 0, 0, 11, 12]</text>\n",
       "<text text-anchor=\"middle\" x=\"409.5\" y=\"-111.8\" font-family=\"Helvetica,sans-Serif\" font-size=\"14.00\">class = drugB</text>\n",
       "</g>\n",
       "<!-- 5&#45;&gt;6 -->\n",
       "<g id=\"edge6\" class=\"edge\">\n",
       "<title>5&#45;&gt;6</title>\n",
       "<path fill=\"none\" stroke=\"black\" d=\"M410.15,-222.91C410.08,-214.65 410.01,-205.86 409.93,-197.3\"/>\n",
       "<polygon fill=\"black\" stroke=\"black\" points=\"413.43,-196.99 409.85,-187.02 406.43,-197.05 413.43,-196.99\"/>\n",
       "</g>\n",
       "<!-- 9 -->\n",
       "<g id=\"node10\" class=\"node\">\n",
       "<title>9</title>\n",
       "<path fill=\"#e539c0\" stroke=\"black\" d=\"M640,-179.5C640,-179.5 517,-179.5 517,-179.5 511,-179.5 505,-173.5 505,-167.5 505,-167.5 505,-123.5 505,-123.5 505,-117.5 511,-111.5 517,-111.5 517,-111.5 640,-111.5 640,-111.5 646,-111.5 652,-117.5 652,-123.5 652,-123.5 652,-167.5 652,-167.5 652,-173.5 646,-179.5 640,-179.5\"/>\n",
       "<text text-anchor=\"middle\" x=\"578.5\" y=\"-164.3\" font-family=\"Helvetica,sans-Serif\" font-size=\"14.00\">entropy = 0.0</text>\n",
       "<text text-anchor=\"middle\" x=\"578.5\" y=\"-149.3\" font-family=\"Helvetica,sans-Serif\" font-size=\"14.00\">samples = 31</text>\n",
       "<text text-anchor=\"middle\" x=\"578.5\" y=\"-134.3\" font-family=\"Helvetica,sans-Serif\" font-size=\"14.00\">value = [0, 0, 0, 0, 31]</text>\n",
       "<text text-anchor=\"middle\" x=\"578.5\" y=\"-119.3\" font-family=\"Helvetica,sans-Serif\" font-size=\"14.00\">class = drugB</text>\n",
       "</g>\n",
       "<!-- 5&#45;&gt;9 -->\n",
       "<g id=\"edge9\" class=\"edge\">\n",
       "<title>5&#45;&gt;9</title>\n",
       "<path fill=\"none\" stroke=\"black\" d=\"M468.79,-222.91C486.22,-210.77 505.28,-197.49 522.55,-185.46\"/>\n",
       "<polygon fill=\"black\" stroke=\"black\" points=\"524.67,-188.25 530.88,-179.67 520.67,-182.51 524.67,-188.25\"/>\n",
       "</g>\n",
       "<!-- 7 -->\n",
       "<g id=\"node8\" class=\"node\">\n",
       "<title>7</title>\n",
       "<path fill=\"#3c39e5\" stroke=\"black\" d=\"M388,-68C388,-68 265,-68 265,-68 259,-68 253,-62 253,-56 253,-56 253,-12 253,-12 253,-6 259,0 265,0 265,0 388,0 388,0 394,0 400,-6 400,-12 400,-12 400,-56 400,-56 400,-62 394,-68 388,-68\"/>\n",
       "<text text-anchor=\"middle\" x=\"326.5\" y=\"-52.8\" font-family=\"Helvetica,sans-Serif\" font-size=\"14.00\">entropy = 0.0</text>\n",
       "<text text-anchor=\"middle\" x=\"326.5\" y=\"-37.8\" font-family=\"Helvetica,sans-Serif\" font-size=\"14.00\">samples = 11</text>\n",
       "<text text-anchor=\"middle\" x=\"326.5\" y=\"-22.8\" font-family=\"Helvetica,sans-Serif\" font-size=\"14.00\">value = [0, 0, 0, 11, 0]</text>\n",
       "<text text-anchor=\"middle\" x=\"326.5\" y=\"-7.8\" font-family=\"Helvetica,sans-Serif\" font-size=\"14.00\">class = drugA</text>\n",
       "</g>\n",
       "<!-- 6&#45;&gt;7 -->\n",
       "<g id=\"edge7\" class=\"edge\">\n",
       "<title>6&#45;&gt;7</title>\n",
       "<path fill=\"none\" stroke=\"black\" d=\"M378.59,-103.73C371.82,-94.79 364.64,-85.32 357.85,-76.36\"/>\n",
       "<polygon fill=\"black\" stroke=\"black\" points=\"360.57,-74.15 351.74,-68.3 354.99,-78.38 360.57,-74.15\"/>\n",
       "</g>\n",
       "<!-- 8 -->\n",
       "<g id=\"node9\" class=\"node\">\n",
       "<title>8</title>\n",
       "<path fill=\"#e539c0\" stroke=\"black\" d=\"M553,-68C553,-68 430,-68 430,-68 424,-68 418,-62 418,-56 418,-56 418,-12 418,-12 418,-6 424,0 430,0 430,0 553,0 553,0 559,0 565,-6 565,-12 565,-12 565,-56 565,-56 565,-62 559,-68 553,-68\"/>\n",
       "<text text-anchor=\"middle\" x=\"491.5\" y=\"-52.8\" font-family=\"Helvetica,sans-Serif\" font-size=\"14.00\">entropy = 0.0</text>\n",
       "<text text-anchor=\"middle\" x=\"491.5\" y=\"-37.8\" font-family=\"Helvetica,sans-Serif\" font-size=\"14.00\">samples = 12</text>\n",
       "<text text-anchor=\"middle\" x=\"491.5\" y=\"-22.8\" font-family=\"Helvetica,sans-Serif\" font-size=\"14.00\">value = [0, 0, 0, 0, 12]</text>\n",
       "<text text-anchor=\"middle\" x=\"491.5\" y=\"-7.8\" font-family=\"Helvetica,sans-Serif\" font-size=\"14.00\">class = drugB</text>\n",
       "</g>\n",
       "<!-- 6&#45;&gt;8 -->\n",
       "<g id=\"edge8\" class=\"edge\">\n",
       "<title>6&#45;&gt;8</title>\n",
       "<path fill=\"none\" stroke=\"black\" d=\"M440.03,-103.73C446.73,-94.79 453.82,-85.32 460.53,-76.36\"/>\n",
       "<polygon fill=\"black\" stroke=\"black\" points=\"463.37,-78.4 466.56,-68.3 457.77,-74.21 463.37,-78.4\"/>\n",
       "</g>\n",
       "</g>\n",
       "</svg>\n"
      ],
      "text/plain": [
       "<graphviz.files.Source at 0x7fb2e6cac450>"
      ]
     },
     "execution_count": 46,
     "metadata": {},
     "output_type": "execute_result"
    }
   ],
   "source": [
    "from sklearn.tree import export_graphviz\n",
    "import graphviz\n",
    "\n",
    "class_names = ['DrugY','drugC','drugX','drugA','drugB']\n",
    "feature_names = ['Age','Sex','BP','Cholesterol','Na_to_K','Na_to_K>15']\n",
    "\n",
    "dot_data = export_graphviz(dt, out_file=None, filled=True, rounded=True,\n",
    "                                feature_names=feature_names,  \n",
    "                                class_names=class_names)\n",
    "graph = graphviz.Source(dot_data)  \n",
    "graph     "
   ]
  },
  {
   "cell_type": "code",
   "execution_count": 47,
   "metadata": {
    "execution": {
     "iopub.execute_input": "2020-11-23T13:13:39.266447Z",
     "iopub.status.busy": "2020-11-23T13:13:39.264581Z",
     "iopub.status.idle": "2020-11-23T13:13:39.322367Z",
     "shell.execute_reply": "2020-11-23T13:13:39.321618Z"
    },
    "papermill": {
     "duration": 0.135532,
     "end_time": "2020-11-23T13:13:39.322502",
     "exception": false,
     "start_time": "2020-11-23T13:13:39.186970",
     "status": "completed"
    },
    "tags": []
   },
   "outputs": [
    {
     "data": {
      "image/svg+xml": [
       "<?xml version=\"1.0\" encoding=\"UTF-8\" standalone=\"no\"?>\n",
       "<!DOCTYPE svg PUBLIC \"-//W3C//DTD SVG 1.1//EN\"\n",
       " \"http://www.w3.org/Graphics/SVG/1.1/DTD/svg11.dtd\">\n",
       "<!-- Generated by graphviz version 2.42.3 (20191010.1750)\n",
       " -->\n",
       "<!-- Title: Tree Pages: 1 -->\n",
       "<svg width=\"660pt\" height=\"552pt\"\n",
       " viewBox=\"0.00 0.00 660.00 552.00\" xmlns=\"http://www.w3.org/2000/svg\" xmlns:xlink=\"http://www.w3.org/1999/xlink\">\n",
       "<g id=\"graph0\" class=\"graph\" transform=\"scale(1 1) rotate(0) translate(4 548)\">\n",
       "<title>Tree</title>\n",
       "<polygon fill=\"white\" stroke=\"transparent\" points=\"-4,4 -4,-548 656,-548 656,4 -4,4\"/>\n",
       "<!-- 0 -->\n",
       "<g id=\"node1\" class=\"node\">\n",
       "<title>0</title>\n",
       "<path fill=\"#f8dbc7\" stroke=\"black\" d=\"M488,-544C488,-544 335,-544 335,-544 329,-544 323,-538 323,-532 323,-532 323,-473 323,-473 323,-467 329,-461 335,-461 335,-461 488,-461 488,-461 494,-461 500,-467 500,-473 500,-473 500,-532 500,-532 500,-538 494,-544 488,-544\"/>\n",
       "<text text-anchor=\"middle\" x=\"411.5\" y=\"-528.8\" font-family=\"Helvetica,sans-Serif\" font-size=\"14.00\">Na_to_K&gt;15 &lt;= 0.5</text>\n",
       "<text text-anchor=\"middle\" x=\"411.5\" y=\"-513.8\" font-family=\"Helvetica,sans-Serif\" font-size=\"14.00\">gini = 0.68</text>\n",
       "<text text-anchor=\"middle\" x=\"411.5\" y=\"-498.8\" font-family=\"Helvetica,sans-Serif\" font-size=\"14.00\">samples = 160</text>\n",
       "<text text-anchor=\"middle\" x=\"411.5\" y=\"-483.8\" font-family=\"Helvetica,sans-Serif\" font-size=\"14.00\">value = [76, 17, 13, 11, 43]</text>\n",
       "<text text-anchor=\"middle\" x=\"411.5\" y=\"-468.8\" font-family=\"Helvetica,sans-Serif\" font-size=\"14.00\">class = DrugY</text>\n",
       "</g>\n",
       "<!-- 1 -->\n",
       "<g id=\"node2\" class=\"node\">\n",
       "<title>1</title>\n",
       "<path fill=\"#f5b2e7\" stroke=\"black\" d=\"M396.5,-425C396.5,-425 250.5,-425 250.5,-425 244.5,-425 238.5,-419 238.5,-413 238.5,-413 238.5,-354 238.5,-354 238.5,-348 244.5,-342 250.5,-342 250.5,-342 396.5,-342 396.5,-342 402.5,-342 408.5,-348 408.5,-354 408.5,-354 408.5,-413 408.5,-413 408.5,-419 402.5,-425 396.5,-425\"/>\n",
       "<text text-anchor=\"middle\" x=\"323.5\" y=\"-409.8\" font-family=\"Helvetica,sans-Serif\" font-size=\"14.00\">BP &lt;= 0.5</text>\n",
       "<text text-anchor=\"middle\" x=\"323.5\" y=\"-394.8\" font-family=\"Helvetica,sans-Serif\" font-size=\"14.00\">gini = 0.656</text>\n",
       "<text text-anchor=\"middle\" x=\"323.5\" y=\"-379.8\" font-family=\"Helvetica,sans-Serif\" font-size=\"14.00\">samples = 84</text>\n",
       "<text text-anchor=\"middle\" x=\"323.5\" y=\"-364.8\" font-family=\"Helvetica,sans-Serif\" font-size=\"14.00\">value = [0, 17, 13, 11, 43]</text>\n",
       "<text text-anchor=\"middle\" x=\"323.5\" y=\"-349.8\" font-family=\"Helvetica,sans-Serif\" font-size=\"14.00\">class = drugB</text>\n",
       "</g>\n",
       "<!-- 0&#45;&gt;1 -->\n",
       "<g id=\"edge1\" class=\"edge\">\n",
       "<title>0&#45;&gt;1</title>\n",
       "<path fill=\"none\" stroke=\"black\" d=\"M380.97,-460.91C374.21,-451.92 366.98,-442.32 360.02,-433.05\"/>\n",
       "<polygon fill=\"black\" stroke=\"black\" points=\"362.79,-430.91 353.98,-425.02 357.19,-435.12 362.79,-430.91\"/>\n",
       "<text text-anchor=\"middle\" x=\"350.48\" y=\"-446.07\" font-family=\"Helvetica,sans-Serif\" font-size=\"14.00\">True</text>\n",
       "</g>\n",
       "<!-- 10 -->\n",
       "<g id=\"node11\" class=\"node\">\n",
       "<title>10</title>\n",
       "<path fill=\"#e58139\" stroke=\"black\" d=\"M562,-417.5C562,-417.5 439,-417.5 439,-417.5 433,-417.5 427,-411.5 427,-405.5 427,-405.5 427,-361.5 427,-361.5 427,-355.5 433,-349.5 439,-349.5 439,-349.5 562,-349.5 562,-349.5 568,-349.5 574,-355.5 574,-361.5 574,-361.5 574,-405.5 574,-405.5 574,-411.5 568,-417.5 562,-417.5\"/>\n",
       "<text text-anchor=\"middle\" x=\"500.5\" y=\"-402.3\" font-family=\"Helvetica,sans-Serif\" font-size=\"14.00\">gini = 0.0</text>\n",
       "<text text-anchor=\"middle\" x=\"500.5\" y=\"-387.3\" font-family=\"Helvetica,sans-Serif\" font-size=\"14.00\">samples = 76</text>\n",
       "<text text-anchor=\"middle\" x=\"500.5\" y=\"-372.3\" font-family=\"Helvetica,sans-Serif\" font-size=\"14.00\">value = [76, 0, 0, 0, 0]</text>\n",
       "<text text-anchor=\"middle\" x=\"500.5\" y=\"-357.3\" font-family=\"Helvetica,sans-Serif\" font-size=\"14.00\">class = DrugY</text>\n",
       "</g>\n",
       "<!-- 0&#45;&gt;10 -->\n",
       "<g id=\"edge10\" class=\"edge\">\n",
       "<title>0&#45;&gt;10</title>\n",
       "<path fill=\"none\" stroke=\"black\" d=\"M442.38,-460.91C451.02,-449.54 460.43,-437.18 469.1,-425.77\"/>\n",
       "<polygon fill=\"black\" stroke=\"black\" points=\"472,-427.74 475.27,-417.67 466.43,-423.51 472,-427.74\"/>\n",
       "<text text-anchor=\"middle\" x=\"478.64\" y=\"-438.74\" font-family=\"Helvetica,sans-Serif\" font-size=\"14.00\">False</text>\n",
       "</g>\n",
       "<!-- 2 -->\n",
       "<g id=\"node3\" class=\"node\">\n",
       "<title>2</title>\n",
       "<path fill=\"#e0f9d0\" stroke=\"black\" d=\"M303,-306C303,-306 172,-306 172,-306 166,-306 160,-300 160,-294 160,-294 160,-235 160,-235 160,-229 166,-223 172,-223 172,-223 303,-223 303,-223 309,-223 315,-229 315,-235 315,-235 315,-294 315,-294 315,-300 309,-306 303,-306\"/>\n",
       "<text text-anchor=\"middle\" x=\"237.5\" y=\"-290.8\" font-family=\"Helvetica,sans-Serif\" font-size=\"14.00\">Age &lt;= 50.5</text>\n",
       "<text text-anchor=\"middle\" x=\"237.5\" y=\"-275.8\" font-family=\"Helvetica,sans-Serif\" font-size=\"14.00\">gini = 0.491</text>\n",
       "<text text-anchor=\"middle\" x=\"237.5\" y=\"-260.8\" font-family=\"Helvetica,sans-Serif\" font-size=\"14.00\">samples = 30</text>\n",
       "<text text-anchor=\"middle\" x=\"237.5\" y=\"-245.8\" font-family=\"Helvetica,sans-Serif\" font-size=\"14.00\">value = [0, 17, 13, 0, 0]</text>\n",
       "<text text-anchor=\"middle\" x=\"237.5\" y=\"-230.8\" font-family=\"Helvetica,sans-Serif\" font-size=\"14.00\">class = drugC</text>\n",
       "</g>\n",
       "<!-- 1&#45;&gt;2 -->\n",
       "<g id=\"edge2\" class=\"edge\">\n",
       "<title>1&#45;&gt;2</title>\n",
       "<path fill=\"none\" stroke=\"black\" d=\"M293.66,-341.91C287.13,-333.01 280.14,-323.51 273.39,-314.33\"/>\n",
       "<polygon fill=\"black\" stroke=\"black\" points=\"276.03,-312.01 267.28,-306.02 270.39,-316.15 276.03,-312.01\"/>\n",
       "</g>\n",
       "<!-- 5 -->\n",
       "<g id=\"node6\" class=\"node\">\n",
       "<title>5</title>\n",
       "<path fill=\"#ec6cd0\" stroke=\"black\" d=\"M476,-306C476,-306 345,-306 345,-306 339,-306 333,-300 333,-294 333,-294 333,-235 333,-235 333,-229 339,-223 345,-223 345,-223 476,-223 476,-223 482,-223 488,-229 488,-235 488,-235 488,-294 488,-294 488,-300 482,-306 476,-306\"/>\n",
       "<text text-anchor=\"middle\" x=\"410.5\" y=\"-290.8\" font-family=\"Helvetica,sans-Serif\" font-size=\"14.00\">BP &lt;= 1.5</text>\n",
       "<text text-anchor=\"middle\" x=\"410.5\" y=\"-275.8\" font-family=\"Helvetica,sans-Serif\" font-size=\"14.00\">gini = 0.324</text>\n",
       "<text text-anchor=\"middle\" x=\"410.5\" y=\"-260.8\" font-family=\"Helvetica,sans-Serif\" font-size=\"14.00\">samples = 54</text>\n",
       "<text text-anchor=\"middle\" x=\"410.5\" y=\"-245.8\" font-family=\"Helvetica,sans-Serif\" font-size=\"14.00\">value = [0, 0, 0, 11, 43]</text>\n",
       "<text text-anchor=\"middle\" x=\"410.5\" y=\"-230.8\" font-family=\"Helvetica,sans-Serif\" font-size=\"14.00\">class = drugB</text>\n",
       "</g>\n",
       "<!-- 1&#45;&gt;5 -->\n",
       "<g id=\"edge5\" class=\"edge\">\n",
       "<title>1&#45;&gt;5</title>\n",
       "<path fill=\"none\" stroke=\"black\" d=\"M353.68,-341.91C360.36,-332.92 367.51,-323.32 374.4,-314.05\"/>\n",
       "<polygon fill=\"black\" stroke=\"black\" points=\"377.21,-316.13 380.37,-306.02 371.59,-311.96 377.21,-316.13\"/>\n",
       "</g>\n",
       "<!-- 3 -->\n",
       "<g id=\"node4\" class=\"node\">\n",
       "<title>3</title>\n",
       "<path fill=\"#7be539\" stroke=\"black\" d=\"M135,-179.5C135,-179.5 12,-179.5 12,-179.5 6,-179.5 0,-173.5 0,-167.5 0,-167.5 0,-123.5 0,-123.5 0,-117.5 6,-111.5 12,-111.5 12,-111.5 135,-111.5 135,-111.5 141,-111.5 147,-117.5 147,-123.5 147,-123.5 147,-167.5 147,-167.5 147,-173.5 141,-179.5 135,-179.5\"/>\n",
       "<text text-anchor=\"middle\" x=\"73.5\" y=\"-164.3\" font-family=\"Helvetica,sans-Serif\" font-size=\"14.00\">gini = 0.0</text>\n",
       "<text text-anchor=\"middle\" x=\"73.5\" y=\"-149.3\" font-family=\"Helvetica,sans-Serif\" font-size=\"14.00\">samples = 17</text>\n",
       "<text text-anchor=\"middle\" x=\"73.5\" y=\"-134.3\" font-family=\"Helvetica,sans-Serif\" font-size=\"14.00\">value = [0, 17, 0, 0, 0]</text>\n",
       "<text text-anchor=\"middle\" x=\"73.5\" y=\"-119.3\" font-family=\"Helvetica,sans-Serif\" font-size=\"14.00\">class = drugC</text>\n",
       "</g>\n",
       "<!-- 2&#45;&gt;3 -->\n",
       "<g id=\"edge3\" class=\"edge\">\n",
       "<title>2&#45;&gt;3</title>\n",
       "<path fill=\"none\" stroke=\"black\" d=\"M180.6,-222.91C163.74,-210.88 145.32,-197.73 128.57,-185.79\"/>\n",
       "<polygon fill=\"black\" stroke=\"black\" points=\"130.16,-182.63 119.99,-179.67 126.1,-188.32 130.16,-182.63\"/>\n",
       "</g>\n",
       "<!-- 4 -->\n",
       "<g id=\"node5\" class=\"node\">\n",
       "<title>4</title>\n",
       "<path fill=\"#39e5c5\" stroke=\"black\" d=\"M300,-179.5C300,-179.5 177,-179.5 177,-179.5 171,-179.5 165,-173.5 165,-167.5 165,-167.5 165,-123.5 165,-123.5 165,-117.5 171,-111.5 177,-111.5 177,-111.5 300,-111.5 300,-111.5 306,-111.5 312,-117.5 312,-123.5 312,-123.5 312,-167.5 312,-167.5 312,-173.5 306,-179.5 300,-179.5\"/>\n",
       "<text text-anchor=\"middle\" x=\"238.5\" y=\"-164.3\" font-family=\"Helvetica,sans-Serif\" font-size=\"14.00\">gini = 0.0</text>\n",
       "<text text-anchor=\"middle\" x=\"238.5\" y=\"-149.3\" font-family=\"Helvetica,sans-Serif\" font-size=\"14.00\">samples = 13</text>\n",
       "<text text-anchor=\"middle\" x=\"238.5\" y=\"-134.3\" font-family=\"Helvetica,sans-Serif\" font-size=\"14.00\">value = [0, 0, 13, 0, 0]</text>\n",
       "<text text-anchor=\"middle\" x=\"238.5\" y=\"-119.3\" font-family=\"Helvetica,sans-Serif\" font-size=\"14.00\">class = drugX</text>\n",
       "</g>\n",
       "<!-- 2&#45;&gt;4 -->\n",
       "<g id=\"edge4\" class=\"edge\">\n",
       "<title>2&#45;&gt;4</title>\n",
       "<path fill=\"none\" stroke=\"black\" d=\"M237.85,-222.91C237.94,-212.2 238.04,-200.62 238.13,-189.78\"/>\n",
       "<polygon fill=\"black\" stroke=\"black\" points=\"241.63,-189.7 238.22,-179.67 234.63,-189.64 241.63,-189.7\"/>\n",
       "</g>\n",
       "<!-- 6 -->\n",
       "<g id=\"node7\" class=\"node\">\n",
       "<title>6</title>\n",
       "<path fill=\"#fdeffa\" stroke=\"black\" d=\"M475,-187C475,-187 344,-187 344,-187 338,-187 332,-181 332,-175 332,-175 332,-116 332,-116 332,-110 338,-104 344,-104 344,-104 475,-104 475,-104 481,-104 487,-110 487,-116 487,-116 487,-175 487,-175 487,-181 481,-187 475,-187\"/>\n",
       "<text text-anchor=\"middle\" x=\"409.5\" y=\"-171.8\" font-family=\"Helvetica,sans-Serif\" font-size=\"14.00\">Cholesterol &lt;= 0.5</text>\n",
       "<text text-anchor=\"middle\" x=\"409.5\" y=\"-156.8\" font-family=\"Helvetica,sans-Serif\" font-size=\"14.00\">gini = 0.499</text>\n",
       "<text text-anchor=\"middle\" x=\"409.5\" y=\"-141.8\" font-family=\"Helvetica,sans-Serif\" font-size=\"14.00\">samples = 23</text>\n",
       "<text text-anchor=\"middle\" x=\"409.5\" y=\"-126.8\" font-family=\"Helvetica,sans-Serif\" font-size=\"14.00\">value = [0, 0, 0, 11, 12]</text>\n",
       "<text text-anchor=\"middle\" x=\"409.5\" y=\"-111.8\" font-family=\"Helvetica,sans-Serif\" font-size=\"14.00\">class = drugB</text>\n",
       "</g>\n",
       "<!-- 5&#45;&gt;6 -->\n",
       "<g id=\"edge6\" class=\"edge\">\n",
       "<title>5&#45;&gt;6</title>\n",
       "<path fill=\"none\" stroke=\"black\" d=\"M410.15,-222.91C410.08,-214.65 410.01,-205.86 409.93,-197.3\"/>\n",
       "<polygon fill=\"black\" stroke=\"black\" points=\"413.43,-196.99 409.85,-187.02 406.43,-197.05 413.43,-196.99\"/>\n",
       "</g>\n",
       "<!-- 9 -->\n",
       "<g id=\"node10\" class=\"node\">\n",
       "<title>9</title>\n",
       "<path fill=\"#e539c0\" stroke=\"black\" d=\"M640,-179.5C640,-179.5 517,-179.5 517,-179.5 511,-179.5 505,-173.5 505,-167.5 505,-167.5 505,-123.5 505,-123.5 505,-117.5 511,-111.5 517,-111.5 517,-111.5 640,-111.5 640,-111.5 646,-111.5 652,-117.5 652,-123.5 652,-123.5 652,-167.5 652,-167.5 652,-173.5 646,-179.5 640,-179.5\"/>\n",
       "<text text-anchor=\"middle\" x=\"578.5\" y=\"-164.3\" font-family=\"Helvetica,sans-Serif\" font-size=\"14.00\">gini = 0.0</text>\n",
       "<text text-anchor=\"middle\" x=\"578.5\" y=\"-149.3\" font-family=\"Helvetica,sans-Serif\" font-size=\"14.00\">samples = 31</text>\n",
       "<text text-anchor=\"middle\" x=\"578.5\" y=\"-134.3\" font-family=\"Helvetica,sans-Serif\" font-size=\"14.00\">value = [0, 0, 0, 0, 31]</text>\n",
       "<text text-anchor=\"middle\" x=\"578.5\" y=\"-119.3\" font-family=\"Helvetica,sans-Serif\" font-size=\"14.00\">class = drugB</text>\n",
       "</g>\n",
       "<!-- 5&#45;&gt;9 -->\n",
       "<g id=\"edge9\" class=\"edge\">\n",
       "<title>5&#45;&gt;9</title>\n",
       "<path fill=\"none\" stroke=\"black\" d=\"M468.79,-222.91C486.22,-210.77 505.28,-197.49 522.55,-185.46\"/>\n",
       "<polygon fill=\"black\" stroke=\"black\" points=\"524.67,-188.25 530.88,-179.67 520.67,-182.51 524.67,-188.25\"/>\n",
       "</g>\n",
       "<!-- 7 -->\n",
       "<g id=\"node8\" class=\"node\">\n",
       "<title>7</title>\n",
       "<path fill=\"#3c39e5\" stroke=\"black\" d=\"M388,-68C388,-68 265,-68 265,-68 259,-68 253,-62 253,-56 253,-56 253,-12 253,-12 253,-6 259,0 265,0 265,0 388,0 388,0 394,0 400,-6 400,-12 400,-12 400,-56 400,-56 400,-62 394,-68 388,-68\"/>\n",
       "<text text-anchor=\"middle\" x=\"326.5\" y=\"-52.8\" font-family=\"Helvetica,sans-Serif\" font-size=\"14.00\">gini = 0.0</text>\n",
       "<text text-anchor=\"middle\" x=\"326.5\" y=\"-37.8\" font-family=\"Helvetica,sans-Serif\" font-size=\"14.00\">samples = 11</text>\n",
       "<text text-anchor=\"middle\" x=\"326.5\" y=\"-22.8\" font-family=\"Helvetica,sans-Serif\" font-size=\"14.00\">value = [0, 0, 0, 11, 0]</text>\n",
       "<text text-anchor=\"middle\" x=\"326.5\" y=\"-7.8\" font-family=\"Helvetica,sans-Serif\" font-size=\"14.00\">class = drugA</text>\n",
       "</g>\n",
       "<!-- 6&#45;&gt;7 -->\n",
       "<g id=\"edge7\" class=\"edge\">\n",
       "<title>6&#45;&gt;7</title>\n",
       "<path fill=\"none\" stroke=\"black\" d=\"M378.59,-103.73C371.82,-94.79 364.64,-85.32 357.85,-76.36\"/>\n",
       "<polygon fill=\"black\" stroke=\"black\" points=\"360.57,-74.15 351.74,-68.3 354.99,-78.38 360.57,-74.15\"/>\n",
       "</g>\n",
       "<!-- 8 -->\n",
       "<g id=\"node9\" class=\"node\">\n",
       "<title>8</title>\n",
       "<path fill=\"#e539c0\" stroke=\"black\" d=\"M553,-68C553,-68 430,-68 430,-68 424,-68 418,-62 418,-56 418,-56 418,-12 418,-12 418,-6 424,0 430,0 430,0 553,0 553,0 559,0 565,-6 565,-12 565,-12 565,-56 565,-56 565,-62 559,-68 553,-68\"/>\n",
       "<text text-anchor=\"middle\" x=\"491.5\" y=\"-52.8\" font-family=\"Helvetica,sans-Serif\" font-size=\"14.00\">gini = 0.0</text>\n",
       "<text text-anchor=\"middle\" x=\"491.5\" y=\"-37.8\" font-family=\"Helvetica,sans-Serif\" font-size=\"14.00\">samples = 12</text>\n",
       "<text text-anchor=\"middle\" x=\"491.5\" y=\"-22.8\" font-family=\"Helvetica,sans-Serif\" font-size=\"14.00\">value = [0, 0, 0, 0, 12]</text>\n",
       "<text text-anchor=\"middle\" x=\"491.5\" y=\"-7.8\" font-family=\"Helvetica,sans-Serif\" font-size=\"14.00\">class = drugB</text>\n",
       "</g>\n",
       "<!-- 6&#45;&gt;8 -->\n",
       "<g id=\"edge8\" class=\"edge\">\n",
       "<title>6&#45;&gt;8</title>\n",
       "<path fill=\"none\" stroke=\"black\" d=\"M440.03,-103.73C446.73,-94.79 453.82,-85.32 460.53,-76.36\"/>\n",
       "<polygon fill=\"black\" stroke=\"black\" points=\"463.37,-78.4 466.56,-68.3 457.77,-74.21 463.37,-78.4\"/>\n",
       "</g>\n",
       "</g>\n",
       "</svg>\n"
      ],
      "text/plain": [
       "<graphviz.files.Source at 0x7fb2e6cac790>"
      ]
     },
     "execution_count": 47,
     "metadata": {},
     "output_type": "execute_result"
    }
   ],
   "source": [
    "from sklearn.tree import export_graphviz\n",
    "import graphviz\n",
    "\n",
    "class_names = ['DrugY','drugC','drugX','drugA','drugB']\n",
    "feature_names = ['Age','Sex','BP','Cholesterol','Na_to_K','Na_to_K>15']\n",
    "\n",
    "dot_data = export_graphviz(dt_cv.best_estimator_, out_file=None, filled=True, rounded=True,\n",
    "                                feature_names=feature_names,  \n",
    "                                class_names=class_names)\n",
    "graph = graphviz.Source(dot_data)  \n",
    "graph     "
   ]
  },
  {
   "cell_type": "markdown",
   "metadata": {
    "papermill": {
     "duration": 0.069481,
     "end_time": "2020-11-23T13:13:39.462862",
     "exception": false,
     "start_time": "2020-11-23T13:13:39.393381",
     "status": "completed"
    },
    "tags": []
   },
   "source": [
    "## Random Forest Classifier"
   ]
  },
  {
   "cell_type": "code",
   "execution_count": 48,
   "metadata": {
    "execution": {
     "iopub.execute_input": "2020-11-23T13:13:39.608651Z",
     "iopub.status.busy": "2020-11-23T13:13:39.607933Z",
     "iopub.status.idle": "2020-11-23T13:13:39.790728Z",
     "shell.execute_reply": "2020-11-23T13:13:39.790191Z"
    },
    "papermill": {
     "duration": 0.258051,
     "end_time": "2020-11-23T13:13:39.790855",
     "exception": false,
     "start_time": "2020-11-23T13:13:39.532804",
     "status": "completed"
    },
    "tags": []
   },
   "outputs": [],
   "source": [
    "from sklearn.ensemble import RandomForestClassifier\n",
    "rfc = RandomForestClassifier(random_state = 42)\n",
    "rfc.fit(x_train, y_train)\n",
    "rfcPred = rfc.predict(x_test)"
   ]
  },
  {
   "cell_type": "code",
   "execution_count": 49,
   "metadata": {
    "execution": {
     "iopub.execute_input": "2020-11-23T13:13:39.942129Z",
     "iopub.status.busy": "2020-11-23T13:13:39.938291Z",
     "iopub.status.idle": "2020-11-23T13:13:40.715709Z",
     "shell.execute_reply": "2020-11-23T13:13:40.715120Z"
    },
    "papermill": {
     "duration": 0.853831,
     "end_time": "2020-11-23T13:13:40.715816",
     "exception": false,
     "start_time": "2020-11-23T13:13:39.861985",
     "status": "completed"
    },
    "tags": []
   },
   "outputs": [
    {
     "name": "stdout",
     "output_type": "stream",
     "text": [
      "0.98125\n"
     ]
    },
    {
     "data": {
      "text/plain": [
       "0.975"
      ]
     },
     "execution_count": 49,
     "metadata": {},
     "output_type": "execute_result"
    }
   ],
   "source": [
    "print(np.mean(cross_val_score(rfc, x_train, y_train, cv=5)))\n",
    "rfc.score(x_test,y_test)"
   ]
  },
  {
   "cell_type": "code",
   "execution_count": 50,
   "metadata": {
    "execution": {
     "iopub.execute_input": "2020-11-23T13:13:40.868786Z",
     "iopub.status.busy": "2020-11-23T13:13:40.868165Z",
     "iopub.status.idle": "2020-11-23T13:14:50.606805Z",
     "shell.execute_reply": "2020-11-23T13:14:50.606105Z"
    },
    "papermill": {
     "duration": 69.820878,
     "end_time": "2020-11-23T13:14:50.606948",
     "exception": false,
     "start_time": "2020-11-23T13:13:40.786070",
     "status": "completed"
    },
    "tags": []
   },
   "outputs": [],
   "source": [
    "grid = {'n_estimators':np.arange(100,1000,100),\n",
    "        'criterion':['gini','entropy'],\n",
    "       }\n",
    "\n",
    "\n",
    "rfc_cv = GridSearchCV(rfc, param_grid=grid, cv= 5)\n",
    "rfc_cv.fit(x_train, y_train)\n",
    "rfcCvPred = rfc_cv.predict(x_test)"
   ]
  },
  {
   "cell_type": "code",
   "execution_count": 51,
   "metadata": {
    "execution": {
     "iopub.execute_input": "2020-11-23T13:14:50.792562Z",
     "iopub.status.busy": "2020-11-23T13:14:50.790618Z",
     "iopub.status.idle": "2020-11-23T13:14:50.837493Z",
     "shell.execute_reply": "2020-11-23T13:14:50.836789Z"
    },
    "papermill": {
     "duration": 0.158836,
     "end_time": "2020-11-23T13:14:50.837608",
     "exception": false,
     "start_time": "2020-11-23T13:14:50.678772",
     "status": "completed"
    },
    "tags": []
   },
   "outputs": [
    {
     "name": "stdout",
     "output_type": "stream",
     "text": [
      "0.9875\n",
      "{'criterion': 'gini', 'n_estimators': 700}\n",
      "0.975\n"
     ]
    }
   ],
   "source": [
    "print(rfc_cv.best_score_)\n",
    "print(rfc_cv.best_params_)\n",
    "print(rfc_cv.score(x_test,y_test))"
   ]
  },
  {
   "cell_type": "markdown",
   "metadata": {
    "papermill": {
     "duration": 0.072166,
     "end_time": "2020-11-23T13:14:50.981638",
     "exception": false,
     "start_time": "2020-11-23T13:14:50.909472",
     "status": "completed"
    },
    "tags": []
   },
   "source": [
    "# Performance metrics of Models\n"
   ]
  },
  {
   "cell_type": "markdown",
   "metadata": {
    "papermill": {
     "duration": 0.070717,
     "end_time": "2020-11-23T13:14:51.124343",
     "exception": false,
     "start_time": "2020-11-23T13:14:51.053626",
     "status": "completed"
    },
    "tags": []
   },
   "source": [
    "## Accuracy\n"
   ]
  },
  {
   "cell_type": "markdown",
   "metadata": {
    "papermill": {
     "duration": 0.070564,
     "end_time": "2020-11-23T13:14:51.267566",
     "exception": false,
     "start_time": "2020-11-23T13:14:51.197002",
     "status": "completed"
    },
    "tags": []
   },
   "source": [
    "### Without GSCV"
   ]
  },
  {
   "cell_type": "code",
   "execution_count": 52,
   "metadata": {
    "execution": {
     "iopub.execute_input": "2020-11-23T13:14:51.419563Z",
     "iopub.status.busy": "2020-11-23T13:14:51.418502Z",
     "iopub.status.idle": "2020-11-23T13:14:51.438366Z",
     "shell.execute_reply": "2020-11-23T13:14:51.437808Z"
    },
    "papermill": {
     "duration": 0.099475,
     "end_time": "2020-11-23T13:14:51.438497",
     "exception": false,
     "start_time": "2020-11-23T13:14:51.339022",
     "status": "completed"
    },
    "tags": []
   },
   "outputs": [],
   "source": [
    "acc_knn = knn.score(x_test,y_test)\n",
    "acc_dt = dt.score(x_test,y_test)\n",
    "acc_rfc = rfc.score(x_test,y_test)"
   ]
  },
  {
   "cell_type": "code",
   "execution_count": 53,
   "metadata": {
    "execution": {
     "iopub.execute_input": "2020-11-23T13:14:51.588842Z",
     "iopub.status.busy": "2020-11-23T13:14:51.587918Z",
     "iopub.status.idle": "2020-11-23T13:14:51.592041Z",
     "shell.execute_reply": "2020-11-23T13:14:51.591234Z"
    },
    "papermill": {
     "duration": 0.080003,
     "end_time": "2020-11-23T13:14:51.592163",
     "exception": false,
     "start_time": "2020-11-23T13:14:51.512160",
     "status": "completed"
    },
    "tags": []
   },
   "outputs": [
    {
     "name": "stdout",
     "output_type": "stream",
     "text": [
      "0.7 1.0 0.975\n"
     ]
    }
   ],
   "source": [
    "print(acc_knn,acc_dt,acc_rfc)"
   ]
  },
  {
   "cell_type": "markdown",
   "metadata": {
    "papermill": {
     "duration": 0.072399,
     "end_time": "2020-11-23T13:14:51.737110",
     "exception": false,
     "start_time": "2020-11-23T13:14:51.664711",
     "status": "completed"
    },
    "tags": []
   },
   "source": [
    "### With GSCV"
   ]
  },
  {
   "cell_type": "code",
   "execution_count": 54,
   "metadata": {
    "execution": {
     "iopub.execute_input": "2020-11-23T13:14:51.927437Z",
     "iopub.status.busy": "2020-11-23T13:14:51.894322Z",
     "iopub.status.idle": "2020-11-23T13:14:51.976245Z",
     "shell.execute_reply": "2020-11-23T13:14:51.976806Z"
    },
    "papermill": {
     "duration": 0.166816,
     "end_time": "2020-11-23T13:14:51.976997",
     "exception": false,
     "start_time": "2020-11-23T13:14:51.810181",
     "status": "completed"
    },
    "tags": []
   },
   "outputs": [],
   "source": [
    "acc_cv_knn = knn_cv.score(x_test,y_test)\n",
    "acc_cv_dt = dt_cv.score(x_test,y_test)\n",
    "acc_cv_rfc = rfc_cv.score(x_test,y_test)"
   ]
  },
  {
   "cell_type": "code",
   "execution_count": 55,
   "metadata": {
    "execution": {
     "iopub.execute_input": "2020-11-23T13:14:52.126215Z",
     "iopub.status.busy": "2020-11-23T13:14:52.125305Z",
     "iopub.status.idle": "2020-11-23T13:14:52.128449Z",
     "shell.execute_reply": "2020-11-23T13:14:52.129174Z"
    },
    "papermill": {
     "duration": 0.080211,
     "end_time": "2020-11-23T13:14:52.129331",
     "exception": false,
     "start_time": "2020-11-23T13:14:52.049120",
     "status": "completed"
    },
    "tags": []
   },
   "outputs": [
    {
     "name": "stdout",
     "output_type": "stream",
     "text": [
      "0.75 1.0 0.975\n"
     ]
    }
   ],
   "source": [
    "print(acc_cv_knn,acc_cv_dt,acc_cv_rfc)"
   ]
  },
  {
   "cell_type": "markdown",
   "metadata": {
    "papermill": {
     "duration": 0.072264,
     "end_time": "2020-11-23T13:14:52.275484",
     "exception": false,
     "start_time": "2020-11-23T13:14:52.203220",
     "status": "completed"
    },
    "tags": []
   },
   "source": [
    "### Confusion Matrix Plot"
   ]
  },
  {
   "cell_type": "markdown",
   "metadata": {
    "papermill": {
     "duration": 0.073264,
     "end_time": "2020-11-23T13:14:52.424030",
     "exception": false,
     "start_time": "2020-11-23T13:14:52.350766",
     "status": "completed"
    },
    "tags": []
   },
   "source": [
    "### Without GSCV\n"
   ]
  },
  {
   "cell_type": "code",
   "execution_count": 56,
   "metadata": {
    "execution": {
     "iopub.execute_input": "2020-11-23T13:14:52.583066Z",
     "iopub.status.busy": "2020-11-23T13:14:52.582263Z",
     "iopub.status.idle": "2020-11-23T13:14:53.209788Z",
     "shell.execute_reply": "2020-11-23T13:14:53.209119Z"
    },
    "papermill": {
     "duration": 0.709935,
     "end_time": "2020-11-23T13:14:53.209930",
     "exception": false,
     "start_time": "2020-11-23T13:14:52.499995",
     "status": "completed"
    },
    "tags": []
   },
   "outputs": [
    {
     "data": {
      "image/png": "[encoded data removed]",
      "text/plain": [
       "<Figure size 432x288 with 2 Axes>"
      ]
     },
     "metadata": {
      "needs_background": "light"
     },
     "output_type": "display_data"
    },
    {
     "data": {
      "image/png": "[encoded data removed]",
      "text/plain": [
       "<Figure size 432x288 with 2 Axes>"
      ]
     },
     "metadata": {
      "needs_background": "light"
     },
     "output_type": "display_data"
    },
    {
     "data": {
      "image/png": "[encoded data removed]",
      "text/plain": [
       "<Figure size 432x288 with 2 Axes>"
      ]
     },
     "metadata": {
      "needs_background": "light"
     },
     "output_type": "display_data"
    }
   ],
   "source": [
    "from sklearn.metrics import plot_confusion_matrix\n",
    "from sklearn import metrics\n",
    "class_names = ['DrugY','drugC','drugX','drugA','drugB']\n",
    "\n",
    "dispKnnConfMat = plot_confusion_matrix(knn, x_test, y_test,cmap=plt.cm.Blues,display_labels = class_names)\n",
    "dispKnnConfMat.ax_.set_title('Confusion Matrix for Knn')\n",
    "\n",
    "dispdtConfMat = plot_confusion_matrix(dt, x_test, y_test,cmap=plt.cm.Blues,display_labels = class_names)\n",
    "dispdtConfMat.ax_.set_title('Confusion Matrix for Decision Tree')\n",
    "\n",
    "disprfcConfMat = plot_confusion_matrix(rfc, x_test, y_test,cmap=plt.cm.Blues,display_labels = class_names)\n",
    "disprfcConfMat.ax_.set_title('Confusion Matrix for Random Forest Classifier')\n",
    "plt.show() "
   ]
  },
  {
   "cell_type": "markdown",
   "metadata": {
    "papermill": {
     "duration": 0.074204,
     "end_time": "2020-11-23T13:14:53.359565",
     "exception": false,
     "start_time": "2020-11-23T13:14:53.285361",
     "status": "completed"
    },
    "tags": []
   },
   "source": [
    "### With GSCV"
   ]
  },
  {
   "cell_type": "code",
   "execution_count": 57,
   "metadata": {
    "execution": {
     "iopub.execute_input": "2020-11-23T13:14:53.521057Z",
     "iopub.status.busy": "2020-11-23T13:14:53.519968Z",
     "iopub.status.idle": "2020-11-23T13:14:54.202489Z",
     "shell.execute_reply": "2020-11-23T13:14:54.201775Z"
    },
    "papermill": {
     "duration": 0.769014,
     "end_time": "2020-11-23T13:14:54.202624",
     "exception": false,
     "start_time": "2020-11-23T13:14:53.433610",
     "status": "completed"
    },
    "tags": []
   },
   "outputs": [
    {
     "data": {
      "image/png": "[encoded data removed]",
      "text/plain": [
       "<Figure size 432x288 with 2 Axes>"
      ]
     },
     "metadata": {
      "needs_background": "light"
     },
     "output_type": "display_data"
    },
    {
     "data": {
      "image/png": "[encoded data removed]",
      "text/plain": [
       "<Figure size 432x288 with 2 Axes>"
      ]
     },
     "metadata": {
      "needs_background": "light"
     },
     "output_type": "display_data"
    },
    {
     "data": {
      "image/png": "[encoded data removed]",
      "text/plain": [
       "<Figure size 432x288 with 2 Axes>"
      ]
     },
     "metadata": {
      "needs_background": "light"
     },
     "output_type": "display_data"
    }
   ],
   "source": [
    "from sklearn.metrics import plot_confusion_matrix\n",
    "from sklearn import metrics\n",
    "class_names = ['DrugY','drugC','drugX','drugA','drugB']\n",
    "\n",
    "dispKnnConfMat = plot_confusion_matrix(knn_cv, x_test, y_test,cmap=plt.cm.Blues,display_labels = class_names)\n",
    "dispKnnConfMat.ax_.set_title('Confusion Matrix for Knn')\n",
    "\n",
    "dispdtConfMat = plot_confusion_matrix(dt_cv, x_test, y_test,cmap=plt.cm.Blues,display_labels = class_names)\n",
    "dispdtConfMat.ax_.set_title('Confusion Matrix for Decision Tree')\n",
    "\n",
    "disprfcConfMat = plot_confusion_matrix(rfc_cv, x_test, y_test,cmap=plt.cm.Blues,display_labels = class_names)\n",
    "disprfcConfMat.ax_.set_title('Confusion Matrix for Random Forest Classifier')\n",
    "plt.show() "
   ]
  },
  {
   "cell_type": "markdown",
   "metadata": {
    "papermill": {
     "duration": 0.108649,
     "end_time": "2020-11-23T13:14:54.390182",
     "exception": false,
     "start_time": "2020-11-23T13:14:54.281533",
     "status": "completed"
    },
    "tags": []
   },
   "source": [
    "## Report"
   ]
  },
  {
   "cell_type": "markdown",
   "metadata": {
    "papermill": {
     "duration": 0.108186,
     "end_time": "2020-11-23T13:14:54.618203",
     "exception": false,
     "start_time": "2020-11-23T13:14:54.510017",
     "status": "completed"
    },
    "tags": []
   },
   "source": [
    "### Without GSCV"
   ]
  },
  {
   "cell_type": "code",
   "execution_count": 58,
   "metadata": {
    "execution": {
     "iopub.execute_input": "2020-11-23T13:14:54.820848Z",
     "iopub.status.busy": "2020-11-23T13:14:54.819740Z",
     "iopub.status.idle": "2020-11-23T13:14:54.836519Z",
     "shell.execute_reply": "2020-11-23T13:14:54.835834Z"
    },
    "papermill": {
     "duration": 0.113055,
     "end_time": "2020-11-23T13:14:54.836648",
     "exception": false,
     "start_time": "2020-11-23T13:14:54.723593",
     "status": "completed"
    },
    "tags": []
   },
   "outputs": [
    {
     "name": "stdout",
     "output_type": "stream",
     "text": [
      "              precision    recall  f1-score   support\n",
      "\n",
      "       DrugY       1.00      1.00      1.00        15\n",
      "       drugC       0.60      0.50      0.55         6\n",
      "       drugX       0.33      0.67      0.44         3\n",
      "       drugA       1.00      0.20      0.33         5\n",
      "       drugB       0.54      0.64      0.58        11\n",
      "\n",
      "    accuracy                           0.70        40\n",
      "   macro avg       0.69      0.60      0.58        40\n",
      "weighted avg       0.76      0.70      0.69        40\n",
      "\n",
      "\n",
      "              precision    recall  f1-score   support\n",
      "\n",
      "       DrugY       1.00      1.00      1.00        15\n",
      "       drugC       1.00      1.00      1.00         6\n",
      "       drugX       1.00      1.00      1.00         3\n",
      "       drugA       1.00      1.00      1.00         5\n",
      "       drugB       1.00      1.00      1.00        11\n",
      "\n",
      "    accuracy                           1.00        40\n",
      "   macro avg       1.00      1.00      1.00        40\n",
      "weighted avg       1.00      1.00      1.00        40\n",
      "\n",
      "\n",
      "              precision    recall  f1-score   support\n",
      "\n",
      "       DrugY       1.00      1.00      1.00        15\n",
      "       drugC       1.00      1.00      1.00         6\n",
      "       drugX       1.00      1.00      1.00         3\n",
      "       drugA       1.00      0.80      0.89         5\n",
      "       drugB       0.92      1.00      0.96        11\n",
      "\n",
      "    accuracy                           0.97        40\n",
      "   macro avg       0.98      0.96      0.97        40\n",
      "weighted avg       0.98      0.97      0.97        40\n",
      "\n"
     ]
    }
   ],
   "source": [
    "report_knn = metrics.classification_report(y_test, knnPred,target_names=class_names)\n",
    "report_dt = metrics.classification_report(y_test, dtPred,target_names=class_names)\n",
    "report_rfc= metrics.classification_report(y_test, rfcPred,target_names=class_names)\n",
    "print(report_knn,report_dt,report_rfc,sep = '\\n\\n')"
   ]
  },
  {
   "cell_type": "markdown",
   "metadata": {
    "papermill": {
     "duration": 0.07894,
     "end_time": "2020-11-23T13:14:54.996706",
     "exception": false,
     "start_time": "2020-11-23T13:14:54.917766",
     "status": "completed"
    },
    "tags": []
   },
   "source": [
    "### with GSCV"
   ]
  },
  {
   "cell_type": "code",
   "execution_count": 59,
   "metadata": {
    "execution": {
     "iopub.execute_input": "2020-11-23T13:14:55.160291Z",
     "iopub.status.busy": "2020-11-23T13:14:55.159593Z",
     "iopub.status.idle": "2020-11-23T13:14:55.174785Z",
     "shell.execute_reply": "2020-11-23T13:14:55.173753Z"
    },
    "papermill": {
     "duration": 0.099312,
     "end_time": "2020-11-23T13:14:55.174988",
     "exception": false,
     "start_time": "2020-11-23T13:14:55.075676",
     "status": "completed"
    },
    "tags": []
   },
   "outputs": [
    {
     "name": "stdout",
     "output_type": "stream",
     "text": [
      "              precision    recall  f1-score   support\n",
      "\n",
      "       DrugY       1.00      1.00      1.00        15\n",
      "       drugC       1.00      0.67      0.80         6\n",
      "       drugX       0.25      0.33      0.29         3\n",
      "       drugA       1.00      0.20      0.33         5\n",
      "       drugB       0.56      0.82      0.67        11\n",
      "\n",
      "    accuracy                           0.75        40\n",
      "   macro avg       0.76      0.60      0.62        40\n",
      "weighted avg       0.82      0.75      0.74        40\n",
      "\n",
      "\n",
      "              precision    recall  f1-score   support\n",
      "\n",
      "       DrugY       1.00      1.00      1.00        15\n",
      "       drugC       1.00      1.00      1.00         6\n",
      "       drugX       1.00      1.00      1.00         3\n",
      "       drugA       1.00      1.00      1.00         5\n",
      "       drugB       1.00      1.00      1.00        11\n",
      "\n",
      "    accuracy                           1.00        40\n",
      "   macro avg       1.00      1.00      1.00        40\n",
      "weighted avg       1.00      1.00      1.00        40\n",
      "\n",
      "\n",
      "              precision    recall  f1-score   support\n",
      "\n",
      "       DrugY       1.00      1.00      1.00        15\n",
      "       drugC       1.00      1.00      1.00         6\n",
      "       drugX       1.00      1.00      1.00         3\n",
      "       drugA       1.00      0.80      0.89         5\n",
      "       drugB       0.92      1.00      0.96        11\n",
      "\n",
      "    accuracy                           0.97        40\n",
      "   macro avg       0.98      0.96      0.97        40\n",
      "weighted avg       0.98      0.97      0.97        40\n",
      "\n"
     ]
    }
   ],
   "source": [
    "report_knn = metrics.classification_report(y_test, knnCvPred,target_names=class_names)\n",
    "report_dt = metrics.classification_report(y_test, dtCvPred,target_names=class_names)\n",
    "report_rfc= metrics.classification_report(y_test, rfcCvPred,target_names=class_names)\n",
    "print(report_knn,report_dt,report_rfc,sep = '\\n\\n')"
   ]
  }
 ],
 "metadata": {
  "kernelspec": {
   "display_name": "Python 3",
   "language": "python",
   "name": "python3"
  },
  "language_info": {
   "codemirror_mode": {
    "name": "ipython",
    "version": 3
   },
   "file_extension": ".py",
   "mimetype": "text/x-python",
   "name": "python",
   "nbconvert_exporter": "python",
   "pygments_lexer": "ipython3",
   "version": "3.7.6"
  },
  "papermill": {
   "duration": 108.534551,
   "end_time": "2020-11-23T13:14:55.362390",
   "environment_variables": {},
   "exception": null,
   "input_path": "__notebook__.ipynb",
   "output_path": "__notebook__.ipynb",
   "parameters": {},
   "start_time": "2020-11-23T13:13:06.827839",
   "version": "2.1.0"
  }
 },
 "nbformat": 4,
 "nbformat_minor": 4
}
